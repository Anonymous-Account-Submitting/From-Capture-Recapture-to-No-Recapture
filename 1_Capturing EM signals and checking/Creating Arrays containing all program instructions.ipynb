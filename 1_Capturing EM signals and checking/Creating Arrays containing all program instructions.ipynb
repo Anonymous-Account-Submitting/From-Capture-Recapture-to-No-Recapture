{
 "cells": [
  {
   "cell_type": "markdown",
   "id": "bab24e7d",
   "metadata": {},
   "source": [
    "These created arrays are the instructions of each program captured given as a numpy array and saved. These arrays will be used later to...\n",
    "- Identify where the instructions show up in an EM signal.\n",
    "- Check that all instructions are accounted for in the EM signal.\n",
    "- Extract the prior and target instructions during dataset creation\n",
    "- Identify what instructions to generate and in what order for...\n",
    "    - Generate the training programs to identify how well the model is learning at each epoch\n",
    "    - Generate the desired update program sections to append to the known real sections."
   ]
  },
  {
   "cell_type": "code",
   "execution_count": 1,
   "id": "ba44591d",
   "metadata": {},
   "outputs": [],
   "source": [
    "import numpy as np"
   ]
  },
  {
   "cell_type": "markdown",
   "id": "06d5f854",
   "metadata": {},
   "source": [
    "The start and end of the programs executed is the same for identifying main programs to be tested.\n",
    "- This was done to assure consistancy and integity of the register values as well as alining the programs."
   ]
  },
  {
   "cell_type": "code",
   "execution_count": 2,
   "id": "02fae8b1",
   "metadata": {},
   "outputs": [],
   "source": [
    "# Start contains 15 nops so that past instructions do not influence the start of the individual programs\n",
    "start = [\"nop\",\"nop\",\"nop\",\"nop\",\"nop\",\n",
    "        \"nop\",\"nop\",\"nop\",\"nop\",\"nop\",\n",
    "        \"nop\",\"nop\",\"nop\",\"nop\",\"nop\"]\n",
    "\n",
    "# End contains 15 nops. Then clears all 31 via clr registers and the 8 flags. Finally, the loop restarts\n",
    "#    and the B - channel flag is changed to identify new loop.\n",
    "end = [\"nop\",\"nop\",\"nop\",\"nop\",\"nop\",\n",
    "        \"nop\",\"nop\",\"nop\",\"nop\",\"nop\",\n",
    "        \"nop\",\"nop\",\"nop\",\"nop\",\"nop\",\n",
    "       \"clr\",\"clr\",\"clr\",\"clr\",\"clr\",\n",
    "      \"clr\",\"clr\",\"clr\",\"clr\",\"clr\",\n",
    "      \"clr\",\"clr\",\"clr\",\"clr\",\"clr\",\n",
    "      \"clr\",\"clr\",\"clr\",\"clr\",\"clr\",\n",
    "      \"clr\",\"clr\",\"clr\",\"clr\",\"clr\",\n",
    "      \"clr\",\"clr\",\"clr\",\"clr\",\"clr\",\n",
    "      \"clr\", \"clr\",\n",
    "      \"clc\", \"cln\", \"clz\", \"cli\", \"cls\",\n",
    "      \"clv\", \"clt\", \"clh\", \"rjmp\", \"sbi\"]"
   ]
  },
  {
   "cell_type": "markdown",
   "id": "5701853b",
   "metadata": {},
   "source": [
    "# Base Program Code"
   ]
  },
  {
   "cell_type": "code",
   "execution_count": 3,
   "id": "72c14685",
   "metadata": {},
   "outputs": [],
   "source": [
    "# Original Base program performs the following mathmatical operation (Z = D  ((A*B)  +C))\n",
    "# Contains 28 instructions\n",
    "Base_Benign = [\"ldi\", \"ldi\", \"ldi\", \"ldi\", \"ldi\",\n",
    "               \"ldi\", \"clr\", \"clr\", \"mul\",\"mov\",\n",
    "               \"mov\", \"add\", \"brcc-t\", \"mov\",\"mov\",\n",
    "               \"clr\", \"cp\",\"brlo-f\",\"sub\",\"inc\",\n",
    "               \"rjmp\",\"cp\",\"brlo-f\",\"sub\",\"inc\",\n",
    "               \"rjmp\",\"cp\",\"brlo-t\"]"
   ]
  },
  {
   "cell_type": "code",
   "execution_count": 4,
   "id": "317f526a",
   "metadata": {},
   "outputs": [],
   "source": [
    "# anomalous injects an add \n",
    "Base_Anom = [\"ldi\", \"ldi\", \"ldi\", \"ldi\", \"ldi\",\n",
    "               \"ldi\", \"clr\", \"clr\", \"mul\",\"mov\",\n",
    "               \"mov\", \n",
    "                 # Injection\n",
    "                  \"add\",\n",
    "                  \"add\", \"brcc-t\", \"mov\",\"mov\",\n",
    "               \"clr\", \"cp\",\"brlo-f\",\"sub\",\"inc\",\n",
    "               \"rjmp\",\"cp\",\"brlo-f\",\"sub\",\"inc\",\n",
    "               \"rjmp\",\"cp\",\"brlo-t\"]"
   ]
  },
  {
   "cell_type": "markdown",
   "id": "6465284c",
   "metadata": {},
   "source": [
    "# Updates \n",
    "- A = Performs Z = A * B [6 Instructions]\n",
    "- B = Performs Z = (C*D)-(A*B) [11 Instructions]\n",
    "- C = Performs Conditional Z =(C*D)-(A^2+B^2) Condition is if D > 20 [15 Instructions]"
   ]
  },
  {
   "cell_type": "code",
   "execution_count": 5,
   "id": "37ce9065",
   "metadata": {},
   "outputs": [],
   "source": [
    "A = [\"clr\", \"clr\", \"clr\", \"mul\", \"mov\",\n",
    "               \"rjmp\"]\n",
    "B = [\"clr\", \"clr\", \"clr\", \"mul\", \"mov\",\n",
    "    \"mul\", \"mov\", \"sub\", \"brcc-t\", \"mov\",\n",
    "    \"rjmp\"]\n",
    "C = [\"cpi\", \"brlo-f\", \"mul\", \"mov\", \"mov\",\n",
    "    \"mul\", \"mov\", \"clr\", \"mul\", \"add\",\n",
    "    \"adc\", \"sub\", \"sbc\", \"mov\", \"rjmp\"]"
   ]
  },
  {
   "cell_type": "markdown",
   "id": "99a99959",
   "metadata": {},
   "source": [
    "# Updates 50% "
   ]
  },
  {
   "cell_type": "code",
   "execution_count": 6,
   "id": "f96ae923",
   "metadata": {},
   "outputs": [],
   "source": [
    "Update_50_Benign = [\"ldi\", \"ldi\", \"ldi\", \"ldi\", \"ldi\",\n",
    "               \"ldi\", \"clr\", \"clr\", \"mul\",\"mov\",\n",
    "               \"mov\", \"add\", \"brcc-t\"]\n",
    "\n",
    "Update_50_Anom = [\"ldi\", \"ldi\", \"ldi\", \"ldi\", \"ldi\",\n",
    "               \"ldi\", \"clr\", \"clr\", \"mul\",\"mov\",\n",
    "               \"mov\", \n",
    "                 # Injection\n",
    "                  \"add\",\n",
    "                  \"add\", \"brcc-t\"]"
   ]
  },
  {
   "cell_type": "markdown",
   "id": "778576f6",
   "metadata": {},
   "source": [
    "# Updates 75%"
   ]
  },
  {
   "cell_type": "code",
   "execution_count": 7,
   "id": "bb75fc7f",
   "metadata": {},
   "outputs": [],
   "source": [
    "Update_75_Benign = [\"ldi\", \"ldi\", \"ldi\", \"ldi\", \"ldi\",\n",
    "               \"ldi\", \"clr\", \"clr\", \"mul\",\"mov\",\n",
    "               \"mov\", \"add\", \"brcc-t\", \"mov\",\"mov\",\n",
    "               \"clr\", \"cp\",\"brlo-f\",\"sub\",\"inc\"]"
   ]
  },
  {
   "cell_type": "code",
   "execution_count": 8,
   "id": "1bdd82d5",
   "metadata": {},
   "outputs": [],
   "source": [
    "Update_75_Anom = [\"ldi\", \"ldi\", \"ldi\", \"ldi\", \"ldi\",\n",
    "               \"ldi\", \"clr\", \"clr\", \"mul\",\"mov\",\n",
    "               \"mov\", \n",
    "                 # Injection\n",
    "                  \"add\",\n",
    "                  \"add\", \"brcc-t\", \"mov\",\"mov\",\n",
    "               \"clr\", \"cp\",\"brlo-f\",\"sub\",\"inc\"]"
   ]
  },
  {
   "cell_type": "markdown",
   "id": "8d25f5f0",
   "metadata": {},
   "source": [
    "# Updates 100%"
   ]
  },
  {
   "cell_type": "code",
   "execution_count": 9,
   "id": "86db48ab",
   "metadata": {},
   "outputs": [],
   "source": [
    "Update_100_Benign = Base_Benign"
   ]
  },
  {
   "cell_type": "code",
   "execution_count": 10,
   "id": "a9c1b9ee",
   "metadata": {},
   "outputs": [],
   "source": [
    "Update_100_Anom = Base_Anom"
   ]
  },
  {
   "cell_type": "markdown",
   "id": "9ee34aac",
   "metadata": {},
   "source": [
    "# Now we put together the program for the updates."
   ]
  },
  {
   "cell_type": "code",
   "execution_count": 11,
   "id": "dc43dfae",
   "metadata": {},
   "outputs": [],
   "source": [
    "Update_50_A_Benign = Update_50_Benign + A\n",
    "Update_50_B_Benign = Update_50_Benign + B\n",
    "Update_50_C_Benign = Update_50_Benign + C"
   ]
  },
  {
   "cell_type": "code",
   "execution_count": 12,
   "id": "92b8aee8",
   "metadata": {},
   "outputs": [],
   "source": [
    "Update_50_A_Anom = Update_50_Anom + A\n",
    "Update_50_B_Anom = Update_50_Anom + B\n",
    "Update_50_C_Anom = Update_50_Anom + C"
   ]
  },
  {
   "cell_type": "code",
   "execution_count": 13,
   "id": "d2931e00",
   "metadata": {},
   "outputs": [],
   "source": [
    "Update_75_A_Benign = Update_75_Benign + A\n",
    "Update_75_B_Benign = Update_75_Benign + B\n",
    "Update_75_C_Benign = Update_75_Benign + C"
   ]
  },
  {
   "cell_type": "code",
   "execution_count": 14,
   "id": "a614d294",
   "metadata": {},
   "outputs": [],
   "source": [
    "Update_75_A_Anom = Update_75_Anom + A\n",
    "Update_75_B_Anom = Update_75_Anom + B\n",
    "Update_75_C_Anom = Update_75_Anom + C"
   ]
  },
  {
   "cell_type": "code",
   "execution_count": 15,
   "id": "78009868",
   "metadata": {},
   "outputs": [],
   "source": [
    "Update_100_A_Benign = Update_100_Benign + A\n",
    "Update_100_B_Benign = Update_100_Benign + B\n",
    "Update_100_C_Benign = Update_100_Benign + C"
   ]
  },
  {
   "cell_type": "code",
   "execution_count": 16,
   "id": "9cb5ed48",
   "metadata": {},
   "outputs": [],
   "source": [
    "Update_100_A_Anom = Update_100_Anom + A\n",
    "Update_100_B_Anom = Update_100_Anom + B\n",
    "Update_100_C_Anom = Update_100_Anom + C"
   ]
  },
  {
   "cell_type": "markdown",
   "id": "1226b947",
   "metadata": {},
   "source": [
    "# Convert to Numpy and save"
   ]
  },
  {
   "cell_type": "code",
   "execution_count": 17,
   "id": "b4ef4011",
   "metadata": {},
   "outputs": [],
   "source": [
    "folder = \"../Datasets/Instruction_Code/\""
   ]
  },
  {
   "cell_type": "code",
   "execution_count": 18,
   "id": "b6583c50",
   "metadata": {},
   "outputs": [],
   "source": [
    "np.save(folder + \"start.npy\", np.array(start))\n",
    "np.save(folder + \"end.npy\", np.array(end))"
   ]
  },
  {
   "cell_type": "code",
   "execution_count": 19,
   "id": "600da225",
   "metadata": {},
   "outputs": [],
   "source": [
    "np.save(folder + \"Base_Benign.npy\", np.array(Base_Benign))\n",
    "np.save(folder + \"Base_Anom.npy\", np.array(Base_Anom))"
   ]
  },
  {
   "cell_type": "code",
   "execution_count": 20,
   "id": "d5ea93ce",
   "metadata": {},
   "outputs": [],
   "source": [
    "np.save(folder + \"Update_50_A_Benign.npy\", np.array(Update_50_A_Benign))\n",
    "np.save(folder + \"Update_50_B_Benign.npy\", np.array(Update_50_B_Benign))\n",
    "np.save(folder + \"Update_50_C_Benign.npy\", np.array(Update_50_C_Benign))"
   ]
  },
  {
   "cell_type": "code",
   "execution_count": 21,
   "id": "ff7a114f",
   "metadata": {},
   "outputs": [],
   "source": [
    "np.save(folder + \"Update_50_A_Anom.npy\", np.array(Update_50_A_Anom))\n",
    "np.save(folder + \"Update_50_B_Anom.npy\", np.array(Update_50_B_Anom))\n",
    "np.save(folder + \"Update_50_C_Anom.npy\", np.array(Update_50_C_Anom))"
   ]
  },
  {
   "cell_type": "code",
   "execution_count": 22,
   "id": "746b0b4b",
   "metadata": {},
   "outputs": [],
   "source": [
    "np.save(folder + \"Update_75_A_Benign.npy\", np.array(Update_75_A_Benign))\n",
    "np.save(folder + \"Update_75_B_Benign.npy\", np.array(Update_75_B_Benign))\n",
    "np.save(folder + \"Update_75_C_Benign.npy\", np.array(Update_75_C_Benign))"
   ]
  },
  {
   "cell_type": "code",
   "execution_count": 23,
   "id": "91eb0754",
   "metadata": {},
   "outputs": [],
   "source": [
    "np.save(folder + \"Update_75_A_Anom.npy\", np.array(Update_75_A_Anom))\n",
    "np.save(folder + \"Update_75_B_Anom.npy\", np.array(Update_75_B_Anom))\n",
    "np.save(folder + \"Update_75_C_Anom.npy\", np.array(Update_75_C_Anom))"
   ]
  },
  {
   "cell_type": "code",
   "execution_count": 24,
   "id": "fa6cd5e0",
   "metadata": {},
   "outputs": [],
   "source": [
    "np.save(folder + \"Update_100_A_Benign.npy\", np.array(Update_100_A_Benign))\n",
    "np.save(folder + \"Update_100_B_Benign.npy\", np.array(Update_100_B_Benign))\n",
    "np.save(folder + \"Update_100_C_Benign.npy\", np.array(Update_100_C_Benign))"
   ]
  },
  {
   "cell_type": "code",
   "execution_count": 25,
   "id": "7a1f24f9",
   "metadata": {},
   "outputs": [],
   "source": [
    "np.save(folder + \"Update_100_A_Anom.npy\", np.array(Update_100_A_Anom))\n",
    "np.save(folder + \"Update_100_B_Anom.npy\", np.array(Update_100_B_Anom))\n",
    "np.save(folder + \"Update_100_C_Anom.npy\", np.array(Update_100_C_Anom))"
   ]
  },
  {
   "cell_type": "markdown",
   "id": "40288997",
   "metadata": {},
   "source": [
    "# Next we need to obtain the code for the training programs.\n",
    "- These programs are used to train the Deep Learning model.\n",
    "- Programs 1, 2 and 3 contains segments of code that together make up the desired updates A, B, and C in the updated areas with the same and with random states.\n",
    "- Program 4 contains the segments but with random states only."
   ]
  },
  {
   "cell_type": "code",
   "execution_count": 26,
   "id": "db739912",
   "metadata": {},
   "outputs": [],
   "source": [
    "Train_Program_1 = [\"inc\", \"rjmp\", \"cp\", \"brlo-t\", \"cpi\",\n",
    "                  \"brlo-f\", \"add\", \"adc\", \"sub\", \"sbc\",\n",
    "                   \"mov\",\"rjmp\",\n",
    "                   \n",
    "                   \"clr\",\"clr\",\"ldi\",\"clr\",\"ldi\", # Set state\n",
    "                   \n",
    "                   \"cp\",\"brlo-f\",\"sub\",\n",
    "                   \"inc\",\"cpi\", \"brlo-f\", \"mul\", \"mov\",\n",
    "                   \"mov\", \"mul\", \"mov\", \"clr\", \n",
    "                   \n",
    "                   \"inc\", \"clr\", \"ldi\", \"clr\",\"ldi\", \"clr\", # Set state\n",
    "                   \n",
    "                   \"clr\",\n",
    "                   \"clr\", \"mul\", \"mov\", \"rjmp\", \"ldi\",\n",
    "                   \"ldi\", \"ldi\", \"mul\", \"add\", \"adc\",\n",
    "                   \"sub\", \"sbc\", \"mov\", \"rjmp\", \"clr\",\n",
    "                   \"clr\", \"clr\", \"ldi\", \"ldi\", \"ldi\",\n",
    "                   \n",
    "                   \"mul\", \"clr\", \"clr\", \"clr\", \"clr\", \"clr\", # set state\n",
    "                   \n",
    "                   \"mov\", \"mov\", \"add\", \"brcc-t\", \"clr\",\n",
    "                   \"clr\", \"clr\", \"mul\", \"mov\", \"rjmp\",\n",
    "                   \"clr\", \"clr\", \"clr\", \"mul\", \"mov\",\n",
    "                   \"rjmp\", \n",
    "                   \n",
    "                   \"inc\", \"clr\", \"ldi\", \"ldi\", \"ldi\", # set state\n",
    "                   \n",
    "                   \"mul\", \"mov\", \"sub\", \"brcc-t\",\n",
    "                   \"mov\", \"rjmp\", \"ldi\", \"ldi\", \"ldi\",\n",
    "                   \"ldi\", \"clr\", \"clr\", \"clr\", \"mul\",\n",
    "                   \"mov\", \"rjmp\", \"clr\", \"clr\", \"ldi\",\n",
    "                   \"ldi\", \"ldi\", \"ldi\",\n",
    "                   \n",
    "                   \"mul\", \"clr\", \"clr\", # set state\n",
    "                   \n",
    "                   \"mov\", \"mov\",\n",
    "                   \"add\", \"brcc-t\", \"cpi\", \"brlo-f\", \"mul\",\n",
    "                   \"mov\", \"cpi\", \"brlo-t\", \"mul\", \"mov\",\n",
    "                   \"mov\", \"mul\", \"mov\", \"clr\", \"mul\",\n",
    "                   \"clr\", \"mul\", \"mov\", \"mul\",\n",
    "                   \n",
    "                   \"inc\", \"ldi\", \"ldi\", # set state\n",
    "                   \n",
    "                   \"mov\",\n",
    "                   \"mul\", \"mov\", \"clr\", \"mul\", \"add\",\n",
    "                   \"adc\", \"sub\", \"sbc\", \"mov\", \"rjmp\",\n",
    "                   \"ldi\", \"ldi\", \"clr\", \"mul\", \"mov\",\n",
    "                   \"rjmp\"]"
   ]
  },
  {
   "cell_type": "code",
   "execution_count": 27,
   "id": "44835317",
   "metadata": {},
   "outputs": [
    {
     "data": {
      "text/plain": [
       "149"
      ]
     },
     "execution_count": 27,
     "metadata": {},
     "output_type": "execute_result"
    }
   ],
   "source": [
    "len(Train_Program_1)"
   ]
  },
  {
   "cell_type": "code",
   "execution_count": 28,
   "id": "fe5cbb01",
   "metadata": {},
   "outputs": [],
   "source": [
    "Train_Program_2 = [\"cpi\", \"brlo-f\", \"mul\", \"mov\", \"mov\",\n",
    "                  \"mul\", \"mov\", \"clr\", \"mul\", \"add\",\n",
    "                  \"adc\", \"sub\", \"sbc\", \"mov\", \"rjmp\",\n",
    "                  \"clr\", \"clr\", \"clr\", \"mul\", \"mov\",\n",
    "                  \"mul\", \"mov\", \"sub\", \"brcc-t\", \"mov\",\n",
    "                  \"rjmp\", \"ldi\", \"ldi\", \"ldi\", \"ldi\",\n",
    "                   \n",
    "                   \"mul\", \"clr\", \"clr\", \"ldi\", \"clr\", \"ldi\", # Set State\n",
    "                   \n",
    "                   \"sub\", \"inc\", \"clr\", \"clr\", \"clr\",\n",
    "                   \"mul\", \"mov\", \"mul\", \"mov\", \"sub\",\n",
    "                   \"brcc-t\",\n",
    "                   \n",
    "                   \"mul\", \"clr\", \"clr\", \"clr\", \"clr\", # set state\n",
    "                  \n",
    "                   \"mov\", \"mov\", \"add\", \"brcc-t\",\n",
    "                   \"clr\", \"clr\", \"clr\", \"mul\", \"mul\",\n",
    "                   \"mov\",\n",
    "                   \n",
    "                   \"mul\", \"ldi\", \"ldi\", \"ldi\", \"ldi\", \"ldi\", # Set State\n",
    "                   \n",
    "                   \"cp\", \"brlo-t\", \"clr\", \"clr\",\n",
    "                   \"clr\", \"mul\", \"mov\",\n",
    "                   \n",
    "                   \"dec\", \"ldi\", # Set State\n",
    "                   \n",
    "                   \"inc\", \"rjmp\",\n",
    "                   \"cp\", \"brlo-t\", \"clr\", \"clr\", \n",
    "                   \n",
    "                   \"clr\", # Set State\n",
    "                   \n",
    "                   \"mul\",\n",
    "                   \"mov\", \"mul\", \"mov\", \"sub\", \"brcc-t\",\n",
    "                   \"mov\", \"rjmp\", \"ldi\", \"ldi\", \"ldi\",\n",
    "                   \"ldi\", \"clr\", \"mul\", \"mov\", \"rjmp\",\n",
    "                   \"mov\", \"mul\", \"mov\", \"sub\", \"brcc-t\",\n",
    "                   \"mov\", \"rjmp\", \"mov\", \"mul\", \"mov\",\n",
    "                   \"sub\", \"sub\", \"sbc\", \"mov\", \"rjmp\",\n",
    "                   \"mov\", \"sub\", \"brcc-t\", \"mov\", \"rjmp\",\n",
    "                   \"ldi\", \"ldi\", \"ldi\", \"ldi\",\n",
    "                   \n",
    "                   \"mul\", \"clr\", # Set State\n",
    "                   \n",
    "                   \"clr\",\n",
    "                   \"clr\", \"clr\", \"mul\", \"mov\", \"mul\",\n",
    "                   \"mov\", \"sub\", \"brcc-t\", \"mov\", \"rjmp\",\n",
    "                   \n",
    "                   \"ldi\", \"ldi\", \"clr\", \"ldi\", \"ldi\", # Set State\n",
    "                   \n",
    "                   \"mov\", \"mov\", \"mul\", \"mov\", \"clr\",\n",
    "                   \"mul\", \"add\", \"adc\", \"sub\", \"sbc\",\n",
    "                   \"mov\", \"rjmp\"\n",
    "                  ]"
   ]
  },
  {
   "cell_type": "code",
   "execution_count": 29,
   "id": "8aed4314",
   "metadata": {},
   "outputs": [
    {
     "data": {
      "text/plain": [
       "154"
      ]
     },
     "execution_count": 29,
     "metadata": {},
     "output_type": "execute_result"
    }
   ],
   "source": [
    "len(Train_Program_2)"
   ]
  },
  {
   "cell_type": "code",
   "execution_count": 30,
   "id": "ebd8b91b",
   "metadata": {},
   "outputs": [],
   "source": [
    "Train_Program_3 = [\"mov\", \"mul\", \"mov\", \"sub\", \"brcc-f\",\n",
    "                  \"mov\", \"rjmp\", \"clr\", \"mul\", \"mov\",\n",
    "                  \"mul\", \"mov\", \"ldi\", \"ldi\", \"ldi\",\n",
    "                  \n",
    "                   \"mul\", \"clr\", \"ldi\", \"clr\", \"clr\", # Set State\n",
    "                  \n",
    "                   \"cpi\", \"brlo-f\", \"mul\", \"mov\", \"mov\",\n",
    "                   \"mul\", \"mov\", \"clr\", \"mul\", \"add\",\n",
    "                   \"adc\", \"clr\", \"clr\", \"clr\", \"mul\",\n",
    "                   \n",
    "                   \"mov\", # Set State\n",
    "                   \n",
    "                   \"clr\", \"mul\", \"add\", \"adc\", \"sub\",\n",
    "                   \"sbc\", \"mov\", \"rjmp\", \"clr\", \"clr\",\n",
    "                   \"clr\", \"mul\", \n",
    "                   \n",
    "                   \"clr\", \"clr\", \"ldi\", \"clr\", \"ldi\", \"ldi\",# Set State\n",
    "                   \n",
    "                   \"cp\", \"brlo-f\", \"sub\",\n",
    "                   \"inc\", \"clr\", \"clr\",\n",
    "                   \n",
    "                   \"mul\", \"sub\", # Set State\n",
    "                   \n",
    "                   \"inc\", \"rjmp\",\n",
    "                   \"cp\", \"brlo-t\", \"clr\", \n",
    "                   \n",
    "                   \"ldi\", # Set State\n",
    "                   \n",
    "                   \"rjmp\", \"cp\", \n",
    "                   \"brlo-t\", \"clr\", \"clr\", \"clr\", \"mul\",\n",
    "                   \"mov\", \"mul\", \"mov\", \n",
    "                   \n",
    "                   \"mul\", \"clr\", \"ldi\", \"clr\", \"ldi\", # Set State\n",
    "                   \n",
    "                   \"sub\", \"inc\",\n",
    "                   \"clr\", \"clr\", \"clr\", \"mul\", \"mov\",\n",
    "                   \n",
    "                   \"rjmp\",\n",
    "                   \n",
    "                   \"inc\", \"ldi\", \"sub\",  # Set State\n",
    "                   \n",
    "                   \"cp\", \"brlo-t\", \"cpi\", \"brlo-f\", \n",
    "                   \"mul\", \"mov\", \"mov\", \"mul\", \"mov\",\n",
    "                   \"ldi\", \"ldi\", \"ldi\", \"ldi\", \"clr\",\n",
    "                   \"clr\", \"clr\", \"mul\", \"mov\", \"mul\",\n",
    "                   \"cpi\", \"brlo-f\", \"mul\", \"mov\", \"mov\",\n",
    "                   \"mul\", \"mov\", \"mul\", \"mov\", \"clr\",\n",
    "                   \"mul\", \"add\", \"adc\", \"cpi\", \"brlo-f\",\n",
    "                   \"mul\", \"mov\", \"mov\", \"mul\", \"mov\", \n",
    "                   \"mul\", \"mov\", \"clr\", \"mul\", \"add\",\n",
    "                   \"adc\"\n",
    "                  ]"
   ]
  },
  {
   "cell_type": "code",
   "execution_count": 31,
   "id": "9d52d7d1",
   "metadata": {},
   "outputs": [
    {
     "data": {
      "text/plain": [
       "139"
      ]
     },
     "execution_count": 31,
     "metadata": {},
     "output_type": "execute_result"
    }
   ],
   "source": [
    "len(Train_Program_3)"
   ]
  },
  {
   "cell_type": "code",
   "execution_count": 32,
   "id": "b33bcca1",
   "metadata": {},
   "outputs": [],
   "source": [
    "Train_Program_4 = [\"cpi\", \"brlo-f\", \"mul\", \"mov\", \"mov\",\n",
    "                   \"mul\", \"mov\", \"clr\", \"mul\", \"add\",\n",
    "                   \"adc\", \"sub\", \"sbc\", \"mov\", \"rjmp\",\n",
    "                   \"ldi\", \"ldi\", \"ldi\", \"ldi\", \"cpi\",\n",
    "                   \"brlo-f\", \"mul\", \"mov\", \"mov\", \"clr\",\n",
    "                   \n",
    "                   \"clr\", \"clr\", \"mul\", \"mov\", \"mul\",\n",
    "                   \"mov\", \"sub\", \"brcc-t\", \"mov\", \"rjmp\",\n",
    "                   \"ldi\", \"ldi\", \"mul\", \"mov\", \"clr\",\n",
    "                   \"mul\", \"add\", \"adc\", \"sub\", \"sbc\",\n",
    "                   \"mov\", \"rjmp\", \"brlo-f\", \"mul\", \"mov\",\n",
    "                   \n",
    "                   \"mov\", \"mul\", \"mov\", \"clr\", \"mul\",\n",
    "                   \"add\", \"ldi\", \"ldi\", \"ldi\", \"clr\",\n",
    "                   \"clr\", \"clr\", \"mul\", \"mov\", \"rjmp\",\n",
    "                   \"clr\", \"clr\", \"clr\", \"mul\", \"mov\",\n",
    "                   \"mul\", \"mov\", \"sub\", \"brcc-f\", \"mov\",\n",
    "                   \n",
    "                   \"rjmp\", \"clr\", \"clr\", \"clr\", \"clr\",\n",
    "                   \"clr\", \"clr\", \"mul\", \"mov\", \"mul\",\n",
    "                   \"mov\", \"sub\", \"ldi\", \"ldi\", \"ldi\",\n",
    "                   \"ldi\", \"brcc-t\", \"mov\", \"rjmp\", \"mul\",\n",
    "                   \"mov\", \"rjmp\", \"adc\", \"sub\", \"sbc\",\n",
    "                   \n",
    "                   \"mov\", \"rjmp\", \"cpi\", \"brlo-f\", \"mul\",\n",
    "                   \"mov\", \"mov\"]"
   ]
  },
  {
   "cell_type": "code",
   "execution_count": 33,
   "id": "37d6ab60",
   "metadata": {},
   "outputs": [
    {
     "data": {
      "text/plain": [
       "107"
      ]
     },
     "execution_count": 33,
     "metadata": {},
     "output_type": "execute_result"
    }
   ],
   "source": [
    "len(Train_Program_4)"
   ]
  },
  {
   "cell_type": "code",
   "execution_count": 34,
   "id": "ce69ba46",
   "metadata": {},
   "outputs": [],
   "source": [
    "np.save(folder + \"Train_Program_1.npy\", np.array(Train_Program_1))\n",
    "np.save(folder + \"Train_Program_2.npy\", np.array(Train_Program_2))\n",
    "np.save(folder + \"Train_Program_3.npy\", np.array(Train_Program_3))\n",
    "np.save(folder + \"Train_Program_4.npy\", np.array(Train_Program_4))"
   ]
  },
  {
   "cell_type": "markdown",
   "id": "c4deea62",
   "metadata": {},
   "source": [
    "# Initialization instructions for Training sets\n",
    "- There is some ldi instruction initialization for the training programs after the common start but before the main program code. These need to be accounted for as well"
   ]
  },
  {
   "cell_type": "code",
   "execution_count": 35,
   "id": "1889917d",
   "metadata": {},
   "outputs": [],
   "source": [
    "Initial_Train_Program_1 = [\"ldi\", \"ldi\", \"ldi\", \"ldi\",\n",
    "                          \"mul\",\n",
    "                          \"ldi\", \"ldi\", \"ldi\", \"ldi\"]\n",
    "Initial_Train_Program_2 = [\"ldi\", \"ldi\", \"ldi\", \"ldi\"]\n",
    "Initial_Train_Program_3 = [\"ldi\", \"ldi\", \"ldi\", \"ldi\"]\n",
    "Initial_Train_Program_4 = [\"ldi\", \"ldi\", \"ldi\", \"ldi\"]"
   ]
  },
  {
   "cell_type": "code",
   "execution_count": 36,
   "id": "ce7d4b96",
   "metadata": {},
   "outputs": [],
   "source": [
    "np.save(folder + \"Initial_Train_Program_1.npy\", np.array(Initial_Train_Program_1))\n",
    "np.save(folder + \"Initial_Train_Program_2.npy\", np.array(Initial_Train_Program_2))\n",
    "np.save(folder + \"Initial_Train_Program_3.npy\", np.array(Initial_Train_Program_3))\n",
    "np.save(folder + \"Initial_Train_Program_4.npy\", np.array(Initial_Train_Program_4))"
   ]
  }
 ],
 "metadata": {
  "kernelspec": {
   "display_name": "Python 3 (ipykernel)",
   "language": "python",
   "name": "python3"
  },
  "language_info": {
   "codemirror_mode": {
    "name": "ipython",
    "version": 3
   },
   "file_extension": ".py",
   "mimetype": "text/x-python",
   "name": "python",
   "nbconvert_exporter": "python",
   "pygments_lexer": "ipython3",
   "version": "3.10.12"
  }
 },
 "nbformat": 4,
 "nbformat_minor": 5
}
