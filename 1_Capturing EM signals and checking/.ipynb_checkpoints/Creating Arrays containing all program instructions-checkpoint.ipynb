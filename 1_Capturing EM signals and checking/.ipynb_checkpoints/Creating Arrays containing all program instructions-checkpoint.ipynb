{
 "cells": [
  {
   "cell_type": "markdown",
   "id": "092745bb",
   "metadata": {},
   "source": [
    "These created arrays are the instructions of each program captured given as a numpy array and saved. These arrays will be used later to...\n",
    "- Identify where the instructions show up in an EM signal.\n",
    "- Check that all instructions are accounted for in the EM signal.\n",
    "- Extract the prior and target instructions during dataset creation\n",
    "- Identify what instructions to generate and in what order for...\n",
    "    - Generate the training programs to identify how well the model is learning at each epoch\n",
    "    - Generate the desired update program sections to append to the known real sections."
   ]
  },
  {
   "cell_type": "code",
   "execution_count": 1,
   "id": "41dd6407",
   "metadata": {},
   "outputs": [],
   "source": [
    "import numpy as np"
   ]
  },
  {
   "cell_type": "markdown",
   "id": "610aeac9",
   "metadata": {},
   "source": [
    "The start and end of the programs executed is the same for identifying main programs to be tested.\n",
    "- This was done to assure consistancy and integity of the register values as well as alining the programs."
   ]
  },
  {
   "cell_type": "code",
   "execution_count": 2,
   "id": "a9357afa",
   "metadata": {},
   "outputs": [],
   "source": [
    "# Start contains 15 nops so that past instructions do not influence the start of the individual programs\n",
    "start = [\"nop\",\"nop\",\"nop\",\"nop\",\"nop\",\n",
    "        \"nop\",\"nop\",\"nop\",\"nop\",\"nop\",\n",
    "        \"nop\",\"nop\",\"nop\",\"nop\",\"nop\"]\n",
    "\n",
    "# End contains 15 nops. Then clears all 31 via clr registers and the 8 flags. Finally, the loop restarts\n",
    "#    and the B - channel flag is changed to identify new loop.\n",
    "end = [\"nop\",\"nop\",\"nop\",\"nop\",\"nop\",\n",
    "        \"nop\",\"nop\",\"nop\",\"nop\",\"nop\",\n",
    "        \"nop\",\"nop\",\"nop\",\"nop\",\"nop\",\n",
    "       \"clr\",\"clr\",\"clr\",\"clr\",\"clr\",\n",
    "      \"clr\",\"clr\",\"clr\",\"clr\",\"clr\",\n",
    "      \"clr\",\"clr\",\"clr\",\"clr\",\"clr\",\n",
    "      \"clr\",\"clr\",\"clr\",\"clr\",\"clr\",\n",
    "      \"clr\",\"clr\",\"clr\",\"clr\",\"clr\",\n",
    "      \"clr\",\"clr\",\"clr\",\"clr\",\"clr\",\n",
    "      \"clr\",\n",
    "      \"clc\", \"cln\", \"clz\", \"cli\", \"cls\",\n",
    "      \"clv\", \"clt\", \"clh\", \"rjmp\", \"sbi\"]"
   ]
  },
  {
   "cell_type": "markdown",
   "id": "265bc110",
   "metadata": {},
   "source": [
    "# Base Program Code"
   ]
  },
  {
   "cell_type": "code",
   "execution_count": 3,
   "id": "b6c031d1",
   "metadata": {},
   "outputs": [],
   "source": [
    "# Original Base program performs the following mathmatical operation (Z = D  ((A*B)  +C))\n",
    "# Contains 28 instructions\n",
    "Base_Benign = [\"ldi\", \"ldi\", \"ldi\", \"ldi\", \"ldi\",\n",
    "               \"ldi\", \"clr\", \"clr\", \"mul\",\"mov\",\n",
    "               \"mov\", \"add\", \"brcc-T\", \"mov\",\"mov\",\n",
    "               \"clr\", \"cp\",\"brlo-F\",\"sub\",\"inc\",\n",
    "               \"rjmp\",\"cp\",\"brlo-F\",\"sub\",\"inc\",\n",
    "               \"rjmp\",\"cp\",\"brlo-T\"]"
   ]
  },
  {
   "cell_type": "code",
   "execution_count": 4,
   "id": "1a20d2ea",
   "metadata": {},
   "outputs": [],
   "source": [
    "# anomalous injects an add \n",
    "Base_Anom = [\"ldi\", \"ldi\", \"ldi\", \"ldi\", \"ldi\",\n",
    "               \"ldi\", \"clr\", \"clr\", \"mul\",\"mov\",\n",
    "               \"mov\", \n",
    "                 # Injection\n",
    "                  \"add\",\n",
    "                  \"add\", \"brcc-T\", \"mov\",\"mov\",\n",
    "               \"clr\", \"cp\",\"brlo-F\",\"sub\",\"inc\",\n",
    "               \"rjmp\",\"cp\",\"brlo-F\",\"sub\",\"inc\",\n",
    "               \"rjmp\",\"cp\",\"brlo-T\"]"
   ]
  },
  {
   "cell_type": "markdown",
   "id": "2f6ba4b2",
   "metadata": {},
   "source": [
    "# Updates \n",
    "- A = Performs Z = A * B [6 Instructions]\n",
    "- B = Performs Z = (C*D)-(A*B) [11 Instructions]\n",
    "- C = Performs Conditional Z =(C*D)-(A^2+B^2) Condition is if D > 20 [15 Instructions]"
   ]
  },
  {
   "cell_type": "code",
   "execution_count": 5,
   "id": "cf45ea01",
   "metadata": {},
   "outputs": [],
   "source": [
    "A = [\"clr\", \"clr\", \"clr\", \"mul\", \"mov\",\n",
    "               \"rjmp\"]\n",
    "B = [\"clr\", \"clr\", \"clr\", \"mul\", \"mov\",\n",
    "    \"mul\", \"mov\", \"sub\", \"brcc-T\", \"mov\",\n",
    "    \"rjmp\"]\n",
    "C = [\"cpi\", \"brlo-F\", \"mul\", \"mov\", \"mov\",\n",
    "    \"mul\", \"mov\", \"clr\", \"mul\", \"add\",\n",
    "    \"adc\", \"sub\", \"sbc\", \"mov\", \"rjmp\"]"
   ]
  },
  {
   "cell_type": "markdown",
   "id": "bae46b8a",
   "metadata": {},
   "source": [
    "# Updates 50% "
   ]
  },
  {
   "cell_type": "code",
   "execution_count": 6,
   "id": "0f019db3",
   "metadata": {},
   "outputs": [],
   "source": [
    "Update_50_Benign = [\"ldi\", \"ldi\", \"ldi\", \"ldi\", \"ldi\",\n",
    "               \"ldi\", \"clr\", \"clr\", \"mul\",\"mov\",\n",
    "               \"mov\", \"add\", \"brcc-T\"]\n",
    "\n",
    "Update_50_Anom = [\"ldi\", \"ldi\", \"ldi\", \"ldi\", \"ldi\",\n",
    "               \"ldi\", \"clr\", \"clr\", \"mul\",\"mov\",\n",
    "               \"mov\", \n",
    "                 # Injection\n",
    "                  \"add\",\n",
    "                  \"add\", \"brcc-T\"]"
   ]
  },
  {
   "cell_type": "markdown",
   "id": "105f5d54",
   "metadata": {},
   "source": [
    "# Updates 75%"
   ]
  },
  {
   "cell_type": "code",
   "execution_count": 7,
   "id": "a0ecb00d",
   "metadata": {},
   "outputs": [],
   "source": [
    "Update_75_Benign = [\"ldi\", \"ldi\", \"ldi\", \"ldi\", \"ldi\",\n",
    "               \"ldi\", \"clr\", \"clr\", \"mul\",\"mov\",\n",
    "               \"mov\", \"add\", \"brcc-T\", \"mov\",\"mov\",\n",
    "               \"clr\", \"cp\",\"brlo-F\",\"sub\",\"inc\"]"
   ]
  },
  {
   "cell_type": "code",
   "execution_count": 8,
   "id": "0678138b",
   "metadata": {},
   "outputs": [],
   "source": [
    "Update_75_Anom = [\"ldi\", \"ldi\", \"ldi\", \"ldi\", \"ldi\",\n",
    "               \"ldi\", \"clr\", \"clr\", \"mul\",\"mov\",\n",
    "               \"mov\", \n",
    "                 # Injection\n",
    "                  \"add\",\n",
    "                  \"add\", \"brcc-T\", \"mov\",\"mov\",\n",
    "               \"clr\", \"cp\",\"brlo-F\",\"sub\",\"inc\"]"
   ]
  },
  {
   "cell_type": "markdown",
   "id": "49af2ec6",
   "metadata": {},
   "source": [
    "# Updates 100%"
   ]
  },
  {
   "cell_type": "code",
   "execution_count": 9,
   "id": "0fd4241e",
   "metadata": {},
   "outputs": [],
   "source": [
    "Update_100_Benign = Base_Benign"
   ]
  },
  {
   "cell_type": "code",
   "execution_count": 10,
   "id": "444edb2d",
   "metadata": {},
   "outputs": [],
   "source": [
    "Update_100_Anom = Base_Anom"
   ]
  },
  {
   "cell_type": "markdown",
   "id": "53bd8c83",
   "metadata": {},
   "source": [
    "# Now we put together the program for the updates."
   ]
  },
  {
   "cell_type": "code",
   "execution_count": 11,
   "id": "1b77e5f2",
   "metadata": {},
   "outputs": [],
   "source": [
    "Update_50_A_Benign = Update_50_Benign + A\n",
    "Update_50_B_Benign = Update_50_Benign + B\n",
    "Update_50_C_Benign = Update_50_Benign + C"
   ]
  },
  {
   "cell_type": "code",
   "execution_count": 12,
   "id": "516710f6",
   "metadata": {},
   "outputs": [],
   "source": [
    "Update_50_A_Anom = Update_50_Anom + A\n",
    "Update_50_B_Anom = Update_50_Anom + B\n",
    "Update_50_C_Anom = Update_50_Anom + C"
   ]
  },
  {
   "cell_type": "code",
   "execution_count": 13,
   "id": "1b16d34b",
   "metadata": {},
   "outputs": [],
   "source": [
    "Update_75_A_Benign = Update_75_Benign + A\n",
    "Update_75_B_Benign = Update_75_Benign + B\n",
    "Update_75_C_Benign = Update_75_Benign + C"
   ]
  },
  {
   "cell_type": "code",
   "execution_count": 14,
   "id": "294d82e2",
   "metadata": {},
   "outputs": [],
   "source": [
    "Update_75_A_Anom = Update_75_Anom + A\n",
    "Update_75_B_Anom = Update_75_Anom + B\n",
    "Update_75_C_Anom = Update_75_Anom + C"
   ]
  },
  {
   "cell_type": "code",
   "execution_count": 15,
   "id": "bee6514e",
   "metadata": {},
   "outputs": [],
   "source": [
    "Update_100_A_Benign = Update_100_Benign + A\n",
    "Update_100_B_Benign = Update_100_Benign + B\n",
    "Update_100_C_Benign = Update_100_Benign + C"
   ]
  },
  {
   "cell_type": "code",
   "execution_count": 16,
   "id": "c8839baf",
   "metadata": {},
   "outputs": [],
   "source": [
    "Update_100_A_Anom = Update_100_Anom + A\n",
    "Update_100_B_Anom = Update_100_Anom + B\n",
    "Update_100_C_Anom = Update_100_Anom + C"
   ]
  },
  {
   "cell_type": "markdown",
   "id": "f8884fed",
   "metadata": {},
   "source": [
    "# Convert to Numpy and save"
   ]
  },
  {
   "cell_type": "code",
   "execution_count": 21,
   "id": "3fbd3102",
   "metadata": {},
   "outputs": [],
   "source": [
    "folder = \"../Datasets/Instruction_Code/\""
   ]
  },
  {
   "cell_type": "code",
   "execution_count": 22,
   "id": "2e73123d",
   "metadata": {},
   "outputs": [],
   "source": [
    "np.save(folder + \"start.npy\", np.array(start))\n",
    "np.save(folder + \"end.npy\", np.array(end))"
   ]
  },
  {
   "cell_type": "code",
   "execution_count": 23,
   "id": "ee086c5d",
   "metadata": {},
   "outputs": [],
   "source": [
    "np.save(folder + \"Base_Benign.npy\", np.array(Base_Benign))\n",
    "np.save(folder + \"Base_Anom.npy\", np.array(Base_Anom))"
   ]
  },
  {
   "cell_type": "code",
   "execution_count": 24,
   "id": "12b58a82",
   "metadata": {},
   "outputs": [],
   "source": [
    "np.save(folder + \"Update_50_A_Benign.npy\", np.array(Update_50_A_Benign))\n",
    "np.save(folder + \"Update_50_B_Benign.npy\", np.array(Update_50_B_Benign))\n",
    "np.save(folder + \"Update_50_C_Benign.npy\", np.array(Update_50_C_Benign))"
   ]
  },
  {
   "cell_type": "code",
   "execution_count": 25,
   "id": "f0e5c493",
   "metadata": {},
   "outputs": [],
   "source": [
    "np.save(folder + \"Update_50_A_Anom.npy\", np.array(Update_50_A_Anom))\n",
    "np.save(folder + \"Update_50_B_Anom.npy\", np.array(Update_50_B_Anom))\n",
    "np.save(folder + \"Update_50_C_Anom.npy\", np.array(Update_50_C_Anom))"
   ]
  },
  {
   "cell_type": "code",
   "execution_count": 26,
   "id": "31e2eedb",
   "metadata": {},
   "outputs": [],
   "source": [
    "np.save(folder + \"Update_75_A_Benign.npy\", np.array(Update_75_A_Benign))\n",
    "np.save(folder + \"Update_75_B_Benign.npy\", np.array(Update_75_B_Benign))\n",
    "np.save(folder + \"Update_75_C_Benign.npy\", np.array(Update_75_C_Benign))"
   ]
  },
  {
   "cell_type": "code",
   "execution_count": 27,
   "id": "743d0e0b",
   "metadata": {},
   "outputs": [],
   "source": [
    "np.save(folder + \"Update_75_A_Anom.npy\", np.array(Update_75_A_Anom))\n",
    "np.save(folder + \"Update_75_B_Anom.npy\", np.array(Update_75_B_Anom))\n",
    "np.save(folder + \"Update_75_C_Anom.npy\", np.array(Update_75_C_Anom))"
   ]
  },
  {
   "cell_type": "code",
   "execution_count": 28,
   "id": "c525da5c",
   "metadata": {},
   "outputs": [],
   "source": [
    "np.save(folder + \"Update_100_A_Benign.npy\", np.array(Update_100_A_Benign))\n",
    "np.save(folder + \"Update_100_B_Benign.npy\", np.array(Update_100_B_Benign))\n",
    "np.save(folder + \"Update_100_C_Benign.npy\", np.array(Update_100_C_Benign))"
   ]
  },
  {
   "cell_type": "code",
   "execution_count": 29,
   "id": "0d1b04e1",
   "metadata": {},
   "outputs": [],
   "source": [
    "np.save(folder + \"Update_100_A_Anom.npy\", np.array(Update_100_A_Anom))\n",
    "np.save(folder + \"Update_100_B_Anom.npy\", np.array(Update_100_B_Anom))\n",
    "np.save(folder + \"Update_100_C_Anom.npy\", np.array(Update_100_C_Anom))"
   ]
  },
  {
   "cell_type": "markdown",
   "id": "7e7a7c44",
   "metadata": {},
   "source": [
    "# Next we need to obtain the code for the training programs.\n",
    "- These programs are used to train the Deep Learning model.\n",
    "- Programs 1, 2 and 3 contains segments of code that together make up the desired updates A, B, and C in the updated areas with the same and with random states.\n",
    "- Program 4 contains the segments but with random states only."
   ]
  },
  {
   "cell_type": "code",
   "execution_count": 48,
   "id": "c1e1b7e5",
   "metadata": {},
   "outputs": [],
   "source": [
    "Train_Program_1 = [\"inc\", \"rjmp\", \"cp\", \"brlo-T\", \"cpi\",\n",
    "                  \"brlo-F\", \"add\", \"adc\", \"sub\", \"sbc\",\n",
    "                   \"mov\",\"rjmp\",\n",
    "                   \n",
    "                   \"clr\",\"clr\",\"ldi\",\"clr\",\"ldi\", # Set state\n",
    "                   \n",
    "                   \"cp\",\"brlo-F\",\"sub\",\n",
    "                   \"inc\",\"cpi\", \"brlo-F\", \"mul\", \"mov\",\n",
    "                   \"mov\", \"mul\", \"mov\", \"clr\", \n",
    "                   \n",
    "                   \"inc\", \"clr\", \"ldi\", \"clr\",\"ldi\", \"clr\", # Set state\n",
    "                   \n",
    "                   \"clr\",\n",
    "                   \"clr\", \"mul\", \"mov\", \"rjmp\", \"ldi\",\n",
    "                   \"ldi\", \"ldi\", \"mul\", \"add\", \"adc\",\n",
    "                   \"sub\", \"sbc\", \"mov\", \"rjmp\", \"clr\",\n",
    "                   \"clr\", \"clr\", \"ldi\", \"ldi\", \"ldi\",\n",
    "                   \n",
    "                   \"mul\", \"clr\", \"clr\", \"clr\", \"clr\", \"clr\", # set state\n",
    "                   \n",
    "                   \"mov\", \"mov\", \"add\", \"brcc-T\", \"clr\",\n",
    "                   \"clr\", \"clr\", \"mul\", \"mov\", \"rjmp\",\n",
    "                   \"clr\", \"clr\", \"clr\", \"mul\", \"mov\",\n",
    "                   \"rjmp\", \n",
    "                   \n",
    "                   \"inc\", \"clr\", \"ldi\", \"ldi\", \"ldi\", # set state\n",
    "                   \n",
    "                   \"mul\", \"mov\", \"sub\", \"brcc-T\",\n",
    "                   \"mov\", \"rjmp\", \"ldi\", \"ldi\", \"ldi\",\n",
    "                   \"ldi\", \"clr\", \"clr\", \"clr\", \"mul\",\n",
    "                   \"mov\", \"rjmp\", \"clr\", \"clr\", \"ldi\",\n",
    "                   \"ldi\", \"ldi\", \"ldi\",\n",
    "                   \n",
    "                   \"mul\", \"clr\", \"clr\", # set state\n",
    "                   \n",
    "                   \"mov\", \"mov\",\n",
    "                   \"add\", \"brcc-T\", \"cpi\", \"brlo-F\", \"mul\",\n",
    "                   \"mov\", \"cpi\", \"brlo-T\", \"mul\", \"mov\",\n",
    "                   \"mov\", \"mul\", \"mov\", \"clr\", \"mul\",\n",
    "                   \"clr\", \"mul\", \"mov\", \"mul\",\n",
    "                   \n",
    "                   \"inc\", \"ldi\", \"ldi\", # set state\n",
    "                   \n",
    "                   \"mov\",\n",
    "                   \"mul\", \"mov\", \"clr\", \"mul\", \"add\",\n",
    "                   \"adc\", \"sub\", \"sbc\", \"mov\", \"rjmp\",\n",
    "                   \"ldi\", \"ldi\", \"clr\", \"mul\", \"mov\",\n",
    "                   \"rjmp\"]"
   ]
  },
  {
   "cell_type": "code",
   "execution_count": 49,
   "id": "088feb0c",
   "metadata": {},
   "outputs": [
    {
     "data": {
      "text/plain": [
       "149"
      ]
     },
     "execution_count": 49,
     "metadata": {},
     "output_type": "execute_result"
    }
   ],
   "source": [
    "len(Train_Program_1)"
   ]
  },
  {
   "cell_type": "code",
   "execution_count": 55,
   "id": "5baa49cf",
   "metadata": {},
   "outputs": [],
   "source": [
    "Train_Program_2 = [\"cpi\", \"brlo-F\", \"mul\", \"mov\", \"mov\",\n",
    "                  \"mul\", \"mov\", \"clr\", \"mul\", \"add\",\n",
    "                  \"adc\", \"sub\", \"sbc\", \"mov\", \"rjmp\",\n",
    "                  \"clr\", \"clr\", \"clr\", \"mul\", \"mov\",\n",
    "                  \"mul\", \"mov\", \"sub\", \"brcc-T\", \"mov\",\n",
    "                  \"rjmp\", \"ldi\", \"ldi\", \"ldi\", \"ldi\",\n",
    "                   \n",
    "                   \"mul\", \"clr\", \"clr\", \"ldi\", \"clr\", \"ldi\", # Set State\n",
    "                   \n",
    "                   \"sub\", \"inc\", \"clr\", \"clr\", \"clr\",\n",
    "                   \"mul\", \"mov\", \"mul\", \"mov\", \"sub\",\n",
    "                   \"brcc-T\",\n",
    "                   \n",
    "                   \"mul\", \"clr\", \"clr\", \"clr\", \"clr\", # set state\n",
    "                  \n",
    "                   \"mov\", \"mov\", \"add\", \"brcc-T\",\n",
    "                   \"clr\", \"clr\", \"clr\", \"mul\", \"mul\",\n",
    "                   \"mov\",\n",
    "                   \n",
    "                   \"mul\", \"ldi\", \"ldi\", \"ldi\", \"ldi\", \"ldi\", # Set State\n",
    "                   \n",
    "                   \"cp\", \"brlo-T\", \"clr\", \"clr\",\n",
    "                   \"clr\", \"mul\", \"mov\",\n",
    "                   \n",
    "                   \"dec\", \"ldi\", # Set State\n",
    "                   \n",
    "                   \"inc\", \"rjmp\",\n",
    "                   \"cp\", \"brlo-T\", \"clr\", \"clr\", \n",
    "                   \n",
    "                   \"clr\", # Set State\n",
    "                   \n",
    "                   \"mul\",\n",
    "                   \"mov\", \"mul\", \"mov\", \"sub\", \"brcc-T\",\n",
    "                   \"mov\", \"rjmp\", \"ldi\", \"ldi\", \"ldi\",\n",
    "                   \"ldi\", \"clr\", \"mul\", \"mov\", \"rjmp\",\n",
    "                   \"mov\", \"mul\", \"mov\", \"sub\", \"brcc-T\",\n",
    "                   \"mov\", \"rjmp\", \"mov\", \"mul\", \"mov\",\n",
    "                   \"sub\", \"sub\", \"sbc\", \"mov\", \"rjmp\",\n",
    "                   \"mov\", \"sub\", \"brcc-T\", \"mov\", \"rjmp\",\n",
    "                   \"ldi\", \"ldi\", \"ldi\", \"ldi\",\n",
    "                   \n",
    "                   \"mul\", \"clr\", # Set State\n",
    "                   \n",
    "                   \"clr\",\n",
    "                   \"clr\", \"clr\", \"mul\", \"mov\", \"mul\",\n",
    "                   \"mov\", \"sub\", \"brcc-T\", \"mov\", \"rjmp\",\n",
    "                   \n",
    "                   \"ldi\", \"ldi\", \"clr\", \"ldi\", \"ldi\", # Set State\n",
    "                   \n",
    "                   \"mov\", \"mov\", \"mul\", \"mov\", \"clr\",\n",
    "                   \"mul\", \"add\", \"adc\", \"sub\", \"sbc\",\n",
    "                   \"mov\", \"rjmp\"\n",
    "                  ]"
   ]
  },
  {
   "cell_type": "code",
   "execution_count": 56,
   "id": "27baaf2a",
   "metadata": {},
   "outputs": [
    {
     "data": {
      "text/plain": [
       "154"
      ]
     },
     "execution_count": 56,
     "metadata": {},
     "output_type": "execute_result"
    }
   ],
   "source": [
    "len(Train_Program_2)"
   ]
  },
  {
   "cell_type": "code",
   "execution_count": 61,
   "id": "d4eda078",
   "metadata": {},
   "outputs": [],
   "source": [
    "Train_Program_3 = [\"mov\", \"mul\", \"mov\", \"sub\", \"brcc-F\",\n",
    "                  \"mov\", \"rjmp\", \"clr\", \"mul\", \"mov\",\n",
    "                  \"mul\", \"mov\", \"ldi\", \"ldi\", \"ldi\",\n",
    "                  \n",
    "                   \"mul\", \"clr\", \"ldi\", \"clr\", \"clr\", # Set State\n",
    "                  \n",
    "                   \"cpi\", \"brlo-F\", \"mul\", \"mov\", \"mov\",\n",
    "                   \"mul\", \"mov\", \"clr\", \"mul\", \"add\",\n",
    "                   \"adc\", \"clr\", \"clr\", \"clr\", \"mul\",\n",
    "                   \n",
    "                   \"mov\", # Set State\n",
    "                   \n",
    "                   \"clr\", \"mul\", \"add\", \"adc\", \"sub\",\n",
    "                   \"sbc\", \"mov\", \"rjmp\", \"clr\", \"clr\",\n",
    "                   \"clr\", \"mul\", \n",
    "                   \n",
    "                   \"clr\", \"clr\", \"ldi\", \"clr\", \"ldi\", \"ldi\",# Set State\n",
    "                   \n",
    "                   \"cp\", \"brlo-F\", \"sub\",\n",
    "                   \"inc\", \"clr\", \"clr\",\n",
    "                   \n",
    "                   \"mul\", \"sub\", # Set State\n",
    "                   \n",
    "                   \"inc\", \"rjmp\",\n",
    "                   \"cp\", \"brlo-T\", \"clr\", \n",
    "                   \n",
    "                   \"ldi\", # Set State\n",
    "                   \n",
    "                   \"rjmp\", \"cp\", \n",
    "                   \"brlo-T\", \"clr\", \"clr\", \"clr\", \"mul\",\n",
    "                   \"mov\", \"mul\", \"mov\", \n",
    "                   \n",
    "                   \"mul\", \"clr\", \"ldi\", \"clr\", \"ldi\", # Set State\n",
    "                   \n",
    "                   \"sub\", \"inc\",\n",
    "                   \"clr\", \"clr\", \"clr\", \"mul\", \"mov\",\n",
    "                   \n",
    "                   \"rjmp\",\n",
    "                   \n",
    "                   \"inc\", \"ldi\", \"sub\",  # Set State\n",
    "                   \n",
    "                   \"cp\", \"brlo-T\", \"cpi\", \"brlo-F\", \n",
    "                   \"mul\", \"mov\", \"mov\", \"mul\", \"mov\",\n",
    "                   \"ldi\", \"ldi\", \"ldi\", \"ldi\", \"clr\",\n",
    "                   \"clr\", \"clr\", \"mul\", \"mov\", \"mul\",\n",
    "                   \"cpi\", \"brlo-F\", \"mul\", \"mov\", \"mov\",\n",
    "                   \"mul\", \"mov\", \"mul\", \"mov\", \"clr\",\n",
    "                   \"mul\", \"add\", \"adc\", \"cpi\", \"brlo-F\",\n",
    "                   \"mul\", \"mov\", \"mov\", \"mul\", \"mov\", \n",
    "                   \"mul\", \"mov\", \"clr\", \"mul\", \"add\",\n",
    "                   \"adc\"\n",
    "                  ]"
   ]
  },
  {
   "cell_type": "code",
   "execution_count": 62,
   "id": "6229abc9",
   "metadata": {},
   "outputs": [
    {
     "data": {
      "text/plain": [
       "139"
      ]
     },
     "execution_count": 62,
     "metadata": {},
     "output_type": "execute_result"
    }
   ],
   "source": [
    "len(Train_Program_3)"
   ]
  },
  {
   "cell_type": "code",
   "execution_count": 64,
   "id": "864cd934",
   "metadata": {},
   "outputs": [],
   "source": [
    "Train_Program_4 = [\"cpi\", \"brlo-F\", \"mul\", \"mov\", \"mov\",\n",
    "                   \"mul\", \"mov\", \"clr\", \"mul\", \"add\",\n",
    "                   \"adc\", \"sub\", \"sbc\", \"mov\", \"rjmp\",\n",
    "                   \"ldi\", \"ldi\", \"ldi\", \"ldi\", \"cpi\",\n",
    "                   \"brlo-F\", \"mul\", \"mov\", \"mov\", \"clr\",\n",
    "                   \n",
    "                   \"clr\", \"clr\", \"mul\", \"mov\", \"mul\",\n",
    "                   \"mov\", \"sub\", \"brcc-T\", \"mov\", \"rjmp\",\n",
    "                   \"ldi\", \"ldi\", \"mul\", \"mov\", \"clr\",\n",
    "                   \"mul\", \"add\", \"adc\", \"sub\", \"sbc\",\n",
    "                   \"mov\", \"rjmp\", \"brlo-F\", \"mul\", \"mov\",\n",
    "                   \n",
    "                   \"mov\", \"mul\", \"mov\", \"clr\", \"mul\",\n",
    "                   \"add\", \"ldi\", \"ldi\", \"ldi\", \"clr\",\n",
    "                   \"clr\", \"clr\", \"mul\", \"mov\", \"rjmp\",\n",
    "                   \"clr\", \"clr\", \"clr\", \"mul\", \"mov\",\n",
    "                   \"mul\", \"mov\", \"sub\", \"brcc-F\", \"mov\",\n",
    "                   \n",
    "                   \"rjmp\", \"clr\", \"clr\", \"clr\", \"clr\",\n",
    "                   \"clr\", \"clr\", \"mul\", \"mov\", \"mul\",\n",
    "                   \"mov\", \"sub\", \"ldi\", \"ldi\", \"ldi\",\n",
    "                   \"ldi\", \"brcc-T\", \"mov\", \"rjmp\", \"mul\",\n",
    "                   \"mov\", \"rjmp\", \"adc\", \"sub\", \"sbc\",\n",
    "                   \n",
    "                   \"mov\", \"rjmp\", \"cpi\", \"brlo-F\", \"mul\",\n",
    "                   \"mov\", \"mov\"]"
   ]
  },
  {
   "cell_type": "code",
   "execution_count": 65,
   "id": "8fee65c7",
   "metadata": {},
   "outputs": [
    {
     "data": {
      "text/plain": [
       "107"
      ]
     },
     "execution_count": 65,
     "metadata": {},
     "output_type": "execute_result"
    }
   ],
   "source": [
    "len(Train_Program_4)"
   ]
  }
 ],
 "metadata": {
  "kernelspec": {
   "display_name": "Python 3 (ipykernel)",
   "language": "python",
   "name": "python3"
  },
  "language_info": {
   "codemirror_mode": {
    "name": "ipython",
    "version": 3
   },
   "file_extension": ".py",
   "mimetype": "text/x-python",
   "name": "python",
   "nbconvert_exporter": "python",
   "pygments_lexer": "ipython3",
   "version": "3.10.12"
  }
 },
 "nbformat": 4,
 "nbformat_minor": 5
}
