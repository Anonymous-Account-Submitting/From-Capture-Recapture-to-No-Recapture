{
 "cells": [
  {
   "cell_type": "code",
   "execution_count": 1,
   "id": "0055791e",
   "metadata": {},
   "outputs": [],
   "source": [
    "from sklearn.model_selection import KFold\n",
    "from sklearn.model_selection import train_test_split\n",
    "from matplotlib import pyplot as plt\n",
    "import random\n",
    "import tensorflow as tf\n",
    "import numpy as np\n",
    "import timeit\n",
    "from sklearn import metrics\n",
    "import scipy.io as sio\n",
    "import csv\n",
    "import os\n",
    "import math \n",
    "import random as rand\n",
    "from numpy import genfromtxt\n",
    "from numpy import sum,isrealobj,sqrt\n",
    "from numpy.random import standard_normal\n",
    "import string\n",
    "\n",
    "#import torch\n",
    "#from torch import nn\n",
    "\n",
    "import warnings\n",
    "from scipy.spatial import distance\n",
    "\n",
    "\n",
    "from importlib import reload\n",
    "import sys\n",
    "sys.path.append(\"../Imports/\") # Adds higher directory to python modules path.\n",
    "\n",
    "from Modules.Tools import MapTool\n",
    "from Modules.Tools import BoxPlot\n",
    "from Modules.Tools import Extractor\n",
    "from Modules.Tools import peakCorrelation as pC\n",
    "from Modules.Tools import ATmega2560_Instructions as Inst_Info\n",
    "import time"
   ]
  },
  {
   "cell_type": "markdown",
   "id": "7cf1845e",
   "metadata": {},
   "source": [
    "# Notebook Parameters\n",
    "- this is simply for obtaining the graphs with manual mapping. Pad is closely relate to the sampling rate for the EM signal."
   ]
  },
  {
   "cell_type": "code",
   "execution_count": 2,
   "id": "517c2913",
   "metadata": {},
   "outputs": [],
   "source": [
    "save_folder = \"\"\n",
    "load_signal_folder = \"../Datasets/Signals/Numpy/segment_good/\"\n",
    "load_code_folder = \"../Datasets/Instruction_Code/\"\n",
    "pad = 7\n",
    "y_low=-2.8\n",
    "y_high=2.8\n",
    "amount=3200"
   ]
  },
  {
   "cell_type": "markdown",
   "id": "302a72b4",
   "metadata": {},
   "source": [
    "# Load Program Code"
   ]
  },
  {
   "cell_type": "code",
   "execution_count": 3,
   "id": "e384032e",
   "metadata": {},
   "outputs": [],
   "source": [
    "Base_Benign_Code = np.load(load_code_folder + \"Base_Benign.npy\").tolist()\n",
    "Base_Anom_Code = np.load(load_code_folder + \"Base_Anom.npy\").tolist()"
   ]
  },
  {
   "cell_type": "code",
   "execution_count": 4,
   "id": "98551a4d",
   "metadata": {},
   "outputs": [],
   "source": [
    "Update_50_A_Benign_Code = np.load(load_code_folder + \"Update_50_A_Benign.npy\").tolist()\n",
    "Update_50_B_Benign_Code = np.load(load_code_folder + \"Update_50_B_Benign.npy\").tolist()\n",
    "Update_50_C_Benign_Code = np.load(load_code_folder + \"Update_50_C_Benign.npy\").tolist()\n",
    "\n",
    "Update_50_A_Anom_Code = np.load(load_code_folder + \"Update_50_A_Anom.npy\").tolist()\n",
    "Update_50_B_Anom_Code = np.load(load_code_folder + \"Update_50_B_Anom.npy\").tolist()\n",
    "Update_50_C_Anom_Code = np.load(load_code_folder + \"Update_50_C_Anom.npy\").tolist()"
   ]
  },
  {
   "cell_type": "code",
   "execution_count": 5,
   "id": "091236d8",
   "metadata": {},
   "outputs": [],
   "source": [
    "Update_75_A_Benign_Code = np.load(load_code_folder + \"Update_75_A_Benign.npy\").tolist()\n",
    "Update_75_B_Benign_Code = np.load(load_code_folder + \"Update_75_B_Benign.npy\").tolist()\n",
    "Update_75_C_Benign_Code = np.load(load_code_folder + \"Update_75_C_Benign.npy\").tolist()\n",
    "\n",
    "Update_75_A_Anom_Code = np.load(load_code_folder + \"Update_75_A_Anom.npy\").tolist()\n",
    "Update_75_B_Anom_Code = np.load(load_code_folder + \"Update_75_B_Anom.npy\").tolist()\n",
    "Update_75_C_Anom_Code = np.load(load_code_folder + \"Update_75_C_Anom.npy\").tolist()"
   ]
  },
  {
   "cell_type": "code",
   "execution_count": 6,
   "id": "bcfb862b",
   "metadata": {},
   "outputs": [],
   "source": [
    "Update_100_A_Benign_Code = np.load(load_code_folder + \"Update_100_A_Benign.npy\").tolist()\n",
    "Update_100_B_Benign_Code = np.load(load_code_folder + \"Update_100_B_Benign.npy\").tolist()\n",
    "Update_100_C_Benign_Code = np.load(load_code_folder + \"Update_100_C_Benign.npy\").tolist()\n",
    "\n",
    "Update_100_A_Anom_Code = np.load(load_code_folder + \"Update_100_A_Anom.npy\").tolist()\n",
    "Update_100_B_Anom_Code = np.load(load_code_folder + \"Update_100_B_Anom.npy\").tolist()\n",
    "Update_100_C_Anom_Code = np.load(load_code_folder + \"Update_100_C_Anom.npy\").tolist()"
   ]
  },
  {
   "cell_type": "code",
   "execution_count": 7,
   "id": "01dba8d3",
   "metadata": {},
   "outputs": [],
   "source": [
    "Train_Program_1_Code = np.load(load_code_folder + \"Train_Program_1.npy\").tolist()\n",
    "Train_Program_2_Code = np.load(load_code_folder + \"Train_Program_2.npy\").tolist()\n",
    "Train_Program_3_Code = np.load(load_code_folder + \"Train_Program_3.npy\").tolist()\n",
    "Train_Program_4_Code = np.load(load_code_folder + \"Train_Program_4.npy\").tolist()"
   ]
  },
  {
   "cell_type": "markdown",
   "id": "2f76cf27",
   "metadata": {},
   "source": [
    "# Load Signals"
   ]
  },
  {
   "cell_type": "code",
   "execution_count": 8,
   "id": "8f5a90ac",
   "metadata": {},
   "outputs": [],
   "source": [
    "Base_Benign = np.load(load_signal_folder + \"Base_Benign.npy\", allow_pickle=True)\n",
    "Base_Anom = np.load(load_signal_folder + \"Base_Anom.npy\", allow_pickle=True)"
   ]
  },
  {
   "cell_type": "code",
   "execution_count": 9,
   "id": "545d86da",
   "metadata": {},
   "outputs": [],
   "source": [
    "Update_50_A_Benign = np.load(load_signal_folder + \"Update_50_A_Benign.npy\", allow_pickle=True)\n",
    "Update_50_B_Benign = np.load(load_signal_folder + \"Update_50_B_Benign.npy\", allow_pickle=True)\n",
    "Update_50_C_Benign = np.load(load_signal_folder + \"Update_50_C_Benign.npy\", allow_pickle=True)\n",
    "\n",
    "Update_50_A_Anom = np.load(load_signal_folder + \"Update_50_A_Anom.npy\", allow_pickle=True)\n",
    "Update_50_B_Anom = np.load(load_signal_folder + \"Update_50_B_Anom.npy\", allow_pickle=True)\n",
    "Update_50_C_Anom = np.load(load_signal_folder + \"Update_50_C_Anom.npy\", allow_pickle=True)"
   ]
  },
  {
   "cell_type": "code",
   "execution_count": 10,
   "id": "621d0687",
   "metadata": {},
   "outputs": [],
   "source": [
    "Update_75_A_Benign = np.load(load_signal_folder + \"Update_75_A_Benign.npy\", allow_pickle=True)\n",
    "Update_75_B_Benign = np.load(load_signal_folder + \"Update_75_B_Benign.npy\", allow_pickle=True)\n",
    "Update_75_C_Benign = np.load(load_signal_folder + \"Update_75_C_Benign.npy\", allow_pickle=True)\n",
    "\n",
    "Update_75_A_Anom = np.load(load_signal_folder + \"Update_75_A_Anom.npy\", allow_pickle=True)\n",
    "Update_75_B_Anom = np.load(load_signal_folder + \"Update_75_B_Anom.npy\", allow_pickle=True)\n",
    "Update_75_C_Anom = np.load(load_signal_folder + \"Update_75_C_Anom.npy\", allow_pickle=True)"
   ]
  },
  {
   "cell_type": "code",
   "execution_count": 11,
   "id": "8c67c017",
   "metadata": {},
   "outputs": [],
   "source": [
    "Update_100_A_Benign = np.load(load_signal_folder + \"Update_100_A_Benign.npy\", allow_pickle=True)\n",
    "Update_100_B_Benign = np.load(load_signal_folder + \"Update_100_B_Benign.npy\", allow_pickle=True)\n",
    "Update_100_C_Benign = np.load(load_signal_folder + \"Update_100_C_Benign.npy\", allow_pickle=True)\n",
    "\n",
    "Update_100_A_Anom = np.load(load_signal_folder + \"Update_100_A_Anom.npy\", allow_pickle=True)\n",
    "Update_100_B_Anom = np.load(load_signal_folder + \"Update_100_B_Anom.npy\", allow_pickle=True)\n",
    "Update_100_C_Anom = np.load(load_signal_folder + \"Update_100_C_Anom.npy\", allow_pickle=True)"
   ]
  },
  {
   "cell_type": "code",
   "execution_count": 12,
   "id": "4c2740c1",
   "metadata": {},
   "outputs": [],
   "source": [
    "Train_Program_1 = np.load(load_signal_folder + \"Train_Program_1.npy\", allow_pickle=True)\n",
    "Train_Program_2 = np.load(load_signal_folder + \"Train_Program_2.npy\", allow_pickle=True)\n",
    "Train_Program_3 = np.load(load_signal_folder + \"Train_Program_3.npy\", allow_pickle=True)\n",
    "Train_Program_4 = np.load(load_signal_folder + \"Train_Program_4.npy\", allow_pickle=True)"
   ]
  },
  {
   "cell_type": "markdown",
   "id": "fee3e927",
   "metadata": {},
   "source": [
    "# Next,  create training datasets based on the extracted information and the signals of the sequences. I.E. list of the following.\n",
    "\n",
    "- Prior and target instructions (Sequence)\n",
    "- Register Values for each instruction in the Sequence\n",
    "- State before exeucting the target instruction.\n",
    "- Signals of set size.\n",
    "    - Signals will be of the smallest length of in the middle (0) point value to cycle length for each instruction in the sequence.\n",
    "    - What this incorporates is to take into acount the amount length of each instructions signal, remove from each end till the size, and stitch/append/combine together into a set size."
   ]
  },
  {
   "cell_type": "code",
   "execution_count": 13,
   "id": "db84d231",
   "metadata": {},
   "outputs": [],
   "source": [
    "# Load the extracted information from the asm program code that was saved in 2_Extract_Important_Information\n",
    "train_Set_Extracted = np.load(\"../Datasets/Extracted Information/train_Set_Extracted.npy\", allow_pickle=True)"
   ]
  },
  {
   "cell_type": "code",
   "execution_count": 14,
   "id": "f4403058",
   "metadata": {},
   "outputs": [],
   "source": [
    "'''\n",
    "Given lists of ASM_Inst, c_Values,  states of each Training Set in a list and a list of numpy arrays of sequence signals,\n",
    "\n",
    "Input:\n",
    "    train_Set_Extracted: list of ASM_Inst, list of c_Values, list of states of each Train_Program in that order.\n",
    "    train_Set_Signals: list of numpy arrays of sequence signals. (must be in the same order as Train_Set_Extracted)\n",
    "    sequence_size: sequence size of the number of instructions (prior and target) to consider.\n",
    "\n",
    "Output:\n",
    "    Sequence_Code: list of sequence code for each program executed in order of given Training_Set_Extracted.\n",
    "    Register_Values: list of register values for each instruction in the each sequence for each program executed in order of give Training_Set_Extracted.\n",
    "    Target_States: list of the state prior to executing the target instruction.\n",
    "    Signal_Priors: list of signals corresponding to the prior instructions. \n",
    "        (Note: will be prior + 1 = same as sequence_size as Transformers need the prior signal to generate a new signal of same shape.\n",
    "            This new signal will include some of the prior signal with added new generated time index values/amplitudes)\n",
    "'''\n",
    "def extractInformationFromTrainingSets(train_Set_Extracted, sequence_size, include_c_Values=True, include_States=True):\n",
    "    x_repeats = []\n",
    "    y_repeats = []\n",
    "    \n",
    "    # First obtain the Sequence_Code, Register_Values and Target_States\n",
    "    ## cycle through each training set\n",
    "    for train_Set in train_Set_Extracted:\n",
    "        ## Obtain the assembly instructions (ASM_Inst), current values (c_Values), and states.\n",
    "        ASM_Inst, c_Values, states = train_Set\n",
    "        \n",
    "        ## Cycle though each instance\n",
    "        for i in range(len(ASM_Inst)-sequence_size):\n",
    "            info=[]\n",
    "            target = \"\"\n",
    "            ## Cycle through sequence_size\n",
    "            for n in range(sequence_size+1):\n",
    "                ## obtain the instruction in the sequence\n",
    "                info.append(ASM_Inst[i+n])\n",
    "                target = ASM_Inst[i+n]\n",
    "\n",
    "                ## obtain current values before executing each instruction in the sequence\n",
    "                if include_c_Values:\n",
    "                    info.append(c_Values[i-n][0])\n",
    "                    info.append(c_Values[i-n][1])\n",
    "                    \n",
    "            ## Add the state before executing the target instruction\n",
    "            if include_States:\n",
    "                info = info + states[i+sequence_size]\n",
    "                \n",
    "            ## Since the model generates cycles (2 waves) at a time, we need to check how many cycles the target instruction\n",
    "            ## has and also add the info for each cycle along with an indicator on which cycle to generate.\n",
    "            #print(target)\n",
    "            #print(Inst_Info.getCycles(target))\n",
    "            amount_Cycles = Inst_Info.getCycles(target)\n",
    "            for i in range(amount_Cycles):\n",
    "                info_cycle = info.copy()\n",
    "                info_cycle.append(i+1)\n",
    "                x_repeats.append(info_cycle)\n",
    "                \n",
    "        print(len(x_repeats))\n",
    "            \n",
    "    return x_repeats"
   ]
  },
  {
   "cell_type": "code",
   "execution_count": 15,
   "id": "ddf5199b",
   "metadata": {},
   "outputs": [
    {
     "name": "stdout",
     "output_type": "stream",
     "text": [
      "183\n",
      "379\n",
      "553\n",
      "688\n",
      "182\n",
      "377\n",
      "550\n",
      "684\n",
      "180\n",
      "374\n",
      "545\n",
      "678\n"
     ]
    }
   ],
   "source": [
    "temp_0 = extractInformationFromTrainingSets(train_Set_Extracted, sequence_size=0)\n",
    "temp_1 = extractInformationFromTrainingSets(train_Set_Extracted, sequence_size=1)\n",
    "temp_2 = extractInformationFromTrainingSets(train_Set_Extracted, sequence_size=2)"
   ]
  },
  {
   "cell_type": "code",
   "execution_count": 16,
   "id": "c9598873",
   "metadata": {},
   "outputs": [
    {
     "name": "stdout",
     "output_type": "stream",
     "text": [
      "[['inc', 1, -1, 6, 0, 0, 0, 0, 0, 0, 0, 0, 0, 0, 0, 0, 0, 0, 0, 2, 3, 4, 24, 1, 0, 10, 0, 4, 10, 0, 0, 0, 0, 0, 0, 1], ['rjmp', -1, -1, 6, 0, 0, 0, 0, 0, 0, 0, 0, 0, 0, 0, 0, 0, 0, 0, 2, 3, 4, 24, 2, 0, 10, 0, 4, 10, 0, 0, 0, 0, 0, 0, 1], ['rjmp', -1, -1, 6, 0, 0, 0, 0, 0, 0, 0, 0, 0, 0, 0, 0, 0, 0, 0, 2, 3, 4, 24, 2, 0, 10, 0, 4, 10, 0, 0, 0, 0, 0, 0, 2], ['cp', 4, 10, 6, 0, 0, 0, 0, 0, 0, 0, 0, 0, 0, 0, 0, 0, 0, 0, 2, 3, 4, 24, 2, 0, 10, 0, 4, 10, 0, 0, 0, 0, 0, 0, 1], ['brlo-t', -1, -1, 6, 0, 0, 0, 0, 0, 0, 0, 0, 0, 0, 0, 0, 0, 0, 0, 2, 3, 4, 24, 2, 0, 10, 0, 4, 10, 0, 0, 0, 0, 0, 0, 1], ['brlo-t', -1, -1, 6, 0, 0, 0, 0, 0, 0, 0, 0, 0, 0, 0, 0, 0, 0, 0, 2, 3, 4, 24, 2, 0, 10, 0, 4, 10, 0, 0, 0, 0, 0, 0, 2], ['cpi', 24, 20, 6, 0, 0, 0, 0, 0, 0, 0, 0, 0, 0, 0, 0, 0, 0, 0, 2, 3, 4, 24, 2, 0, 10, 0, 4, 10, 0, 0, 0, 0, 0, 0, 1], ['brlo-f', -1, -1, 6, 0, 0, 0, 0, 0, 0, 0, 0, 0, 0, 0, 0, 0, 0, 0, 2, 3, 4, 24, 2, 0, 10, 0, 4, 10, 0, 0, 0, 0, 0, 0, 1], ['add', 0, 6, 6, 0, 0, 0, 0, 0, 0, 0, 0, 0, 0, 0, 0, 0, 0, 0, 2, 3, 4, 24, 2, 0, 10, 0, 4, 10, 0, 0, 0, 0, 0, 0, 1], ['adc', 4, 0, 6, 0, 0, 0, 0, 0, 0, 0, 0, 0, 0, 0, 0, 0, 0, 0, 2, 3, 4, 24, 2, 0, 10, 6, 4, 10, 0, 0, 0, 0, 0, 0, 1]]\n"
     ]
    }
   ],
   "source": [
    "print(temp_0[0:10])"
   ]
  },
  {
   "cell_type": "code",
   "execution_count": 17,
   "id": "778c9e3a",
   "metadata": {},
   "outputs": [
    {
     "name": "stdout",
     "output_type": "stream",
     "text": [
      "[['inc', 1, -1, 'rjmp', -1, -1, 6, 0, 0, 0, 0, 0, 0, 0, 0, 0, 0, 0, 0, 0, 0, 0, 2, 3, 4, 24, 2, 0, 10, 0, 4, 10, 0, 0, 0, 0, 0, 0, 1], ['inc', 1, -1, 'rjmp', -1, -1, 6, 0, 0, 0, 0, 0, 0, 0, 0, 0, 0, 0, 0, 0, 0, 0, 2, 3, 4, 24, 2, 0, 10, 0, 4, 10, 0, 0, 0, 0, 0, 0, 2], ['rjmp', -1, -1, 'cp', 1, -1, 6, 0, 0, 0, 0, 0, 0, 0, 0, 0, 0, 0, 0, 0, 0, 0, 2, 3, 4, 24, 2, 0, 10, 0, 4, 10, 0, 0, 0, 0, 0, 0, 1], ['cp', 4, 10, 'brlo-t', -1, -1, 6, 0, 0, 0, 0, 0, 0, 0, 0, 0, 0, 0, 0, 0, 0, 0, 2, 3, 4, 24, 2, 0, 10, 0, 4, 10, 0, 0, 0, 0, 0, 0, 1], ['cp', 4, 10, 'brlo-t', -1, -1, 6, 0, 0, 0, 0, 0, 0, 0, 0, 0, 0, 0, 0, 0, 0, 0, 2, 3, 4, 24, 2, 0, 10, 0, 4, 10, 0, 0, 0, 0, 0, 0, 2], ['brlo-t', -1, -1, 'cpi', 4, 10, 6, 0, 0, 0, 0, 0, 0, 0, 0, 0, 0, 0, 0, 0, 0, 0, 2, 3, 4, 24, 2, 0, 10, 0, 4, 10, 0, 0, 0, 0, 0, 0, 1], ['cpi', 24, 20, 'brlo-f', -1, -1, 6, 0, 0, 0, 0, 0, 0, 0, 0, 0, 0, 0, 0, 0, 0, 0, 2, 3, 4, 24, 2, 0, 10, 0, 4, 10, 0, 0, 0, 0, 0, 0, 1], ['brlo-f', -1, -1, 'add', 24, 20, 6, 0, 0, 0, 0, 0, 0, 0, 0, 0, 0, 0, 0, 0, 0, 0, 2, 3, 4, 24, 2, 0, 10, 0, 4, 10, 0, 0, 0, 0, 0, 0, 1], ['add', 0, 6, 'adc', -1, -1, 6, 0, 0, 0, 0, 0, 0, 0, 0, 0, 0, 0, 0, 0, 0, 0, 2, 3, 4, 24, 2, 0, 10, 6, 4, 10, 0, 0, 0, 0, 0, 0, 1], ['adc', 4, 0, 'sub', 0, 6, 6, 0, 0, 0, 0, 0, 0, 0, 0, 0, 0, 0, 0, 0, 0, 0, 2, 3, 4, 24, 2, 0, 10, 6, 4, 10, 0, 0, 0, 0, 0, 0, 1]]\n"
     ]
    }
   ],
   "source": [
    "print(temp_1[0:10])"
   ]
  },
  {
   "cell_type": "code",
   "execution_count": 18,
   "id": "27c82bb8",
   "metadata": {},
   "outputs": [
    {
     "name": "stdout",
     "output_type": "stream",
     "text": [
      "[['inc', 1, -1, 'rjmp', -1, -1, 'cp', 0, 6, 6, 0, 0, 0, 0, 0, 0, 0, 0, 0, 0, 0, 0, 0, 0, 0, 2, 3, 4, 24, 2, 0, 10, 0, 4, 10, 0, 0, 0, 0, 0, 0, 1], ['rjmp', -1, -1, 'cp', 1, -1, 'brlo-t', -1, -1, 6, 0, 0, 0, 0, 0, 0, 0, 0, 0, 0, 0, 0, 0, 0, 0, 2, 3, 4, 24, 2, 0, 10, 0, 4, 10, 0, 0, 0, 0, 0, 0, 1], ['rjmp', -1, -1, 'cp', 1, -1, 'brlo-t', -1, -1, 6, 0, 0, 0, 0, 0, 0, 0, 0, 0, 0, 0, 0, 0, 0, 0, 2, 3, 4, 24, 2, 0, 10, 0, 4, 10, 0, 0, 0, 0, 0, 0, 2], ['cp', 4, 10, 'brlo-t', -1, -1, 'cpi', 1, -1, 6, 0, 0, 0, 0, 0, 0, 0, 0, 0, 0, 0, 0, 0, 0, 0, 2, 3, 4, 24, 2, 0, 10, 0, 4, 10, 0, 0, 0, 0, 0, 0, 1], ['brlo-t', -1, -1, 'cpi', 4, 10, 'brlo-f', -1, -1, 6, 0, 0, 0, 0, 0, 0, 0, 0, 0, 0, 0, 0, 0, 0, 0, 2, 3, 4, 24, 2, 0, 10, 0, 4, 10, 0, 0, 0, 0, 0, 0, 1], ['cpi', 24, 20, 'brlo-f', -1, -1, 'add', 4, 10, 6, 0, 0, 0, 0, 0, 0, 0, 0, 0, 0, 0, 0, 0, 0, 0, 2, 3, 4, 24, 2, 0, 10, 0, 4, 10, 0, 0, 0, 0, 0, 0, 1], ['brlo-f', -1, -1, 'add', 24, 20, 'adc', -1, -1, 6, 0, 0, 0, 0, 0, 0, 0, 0, 0, 0, 0, 0, 0, 0, 0, 2, 3, 4, 24, 2, 0, 10, 6, 4, 10, 0, 0, 0, 0, 0, 0, 1], ['add', 0, 6, 'adc', -1, -1, 'sub', 24, 20, 6, 0, 0, 0, 0, 0, 0, 0, 0, 0, 0, 0, 0, 0, 0, 0, 2, 3, 4, 24, 2, 0, 10, 6, 4, 10, 0, 0, 0, 0, 0, 0, 1], ['adc', 4, 0, 'sub', 0, 6, 'sbc', -1, -1, 6, 0, 0, 0, 0, 0, 0, 0, 0, 0, 0, 0, 0, 0, 0, 0, 2, 3, 4, 24, 2, 250, 10, 6, 4, 10, 0, 0, 0, 0, 0, 0, 1], ['sub', 0, 6, 'sbc', 4, 0, 'mov', 0, 6, 6, 0, 0, 0, 0, 0, 0, 0, 0, 0, 0, 0, 0, 0, 0, 0, 2, 3, 4, 24, 2, 250, 5, 6, 4, 10, 0, 0, 0, 0, 0, 0, 1]]\n"
     ]
    }
   ],
   "source": [
    "print(temp_2[0:10])"
   ]
  },
  {
   "cell_type": "code",
   "execution_count": 19,
   "id": "77f8654b",
   "metadata": {},
   "outputs": [
    {
     "name": "stdout",
     "output_type": "stream",
     "text": [
      "['inc', 'rjmp', 'cp', 'brlo-t', 'cpi', 'brlo-f', 'add', 'adc', 'sub', 'sbc', 'mov', 'rjmp', 'clr', 'clr', 'ldi', 'clr', 'ldi', 'cp', 'brlo-f', 'sub', 'inc', 'cpi', 'brlo-f', 'mul', 'mov', 'mov', 'mul', 'mov', 'clr', 'inc', 'clr', 'ldi', 'clr', 'ldi', 'clr', 'clr', 'clr', 'mul', 'mov', 'rjmp', 'ldi', 'ldi', 'ldi', 'mul', 'add', 'adc', 'sub', 'sbc', 'mov', 'rjmp', 'clr', 'clr', 'clr', 'ldi', 'ldi', 'ldi', 'mul', 'clr', 'clr', 'clr', 'clr', 'clr', 'mov', 'mov', 'add', 'brcc-t', 'clr', 'clr', 'clr', 'mul', 'mov', 'rjmp', 'clr', 'clr', 'clr', 'mul', 'mov', 'rjmp', 'inc', 'clr', 'ldi', 'ldi', 'ldi', 'mul', 'mov', 'sub', 'brcc-t', 'mov', 'rjmp', 'ldi', 'ldi', 'ldi', 'ldi', 'clr', 'clr', 'clr', 'mul', 'mov', 'rjmp', 'clr', 'clr', 'ldi', 'ldi', 'ldi', 'ldi', 'mul', 'clr', 'clr', 'mov', 'mov', 'add', 'brcc-t', 'cpi', 'brlo-f', 'mul', 'mov', 'cpi', 'brlo-t', 'mul', 'mov', 'mov', 'mul', 'mov', 'clr', 'mul', 'clr', 'mul', 'mov', 'mul', 'inc', 'ldi', 'ldi', 'mov', 'mul', 'mov', 'clr', 'mul', 'add', 'adc', 'sub', 'sbc', 'mov', 'rjmp', 'ldi', 'ldi', 'clr', 'mul', 'mov', 'rjmp']\n",
      "149\n"
     ]
    }
   ],
   "source": [
    "print(train_Set_Extracted[0][0])\n",
    "print(len(train_Set_Extracted[0][0]))"
   ]
  },
  {
   "cell_type": "code",
   "execution_count": 20,
   "id": "6db6fc38",
   "metadata": {},
   "outputs": [
    {
     "name": "stdout",
     "output_type": "stream",
     "text": [
      "[[1, -1], [-1, -1], [4, 10], [-1, -1], [24, 20], [-1, -1], [0, 6], [4, 0], [0, 6], [10, 4], [2, 250], [-1, -1], [250, -1], [250, -1], [5, 10], [6, -1], [4, 24], [24, 10], [-1, -1], [24, 10], [0, -1], [24, 20], [-1, -1], [4, 24], [0, 96], [10, 0], [2, 2], [0, 4], [14, -1], [1, -1], [96, -1], [0, 10], [4, -1], [0, 4], [4, -1], [0, -1], [10, -1], [2, 3], [0, 6], [-1, -1], [3, 83], [4, 139], [2, 200], [83, 83], [0, 233], [4, 26], [0, 233], [6, 30], [2, 23], [-1, -1], [233, -1], [26, -1], [231, -1], [200, 2], [83, 3], [139, 4], [2, 3], [23, -1], [23, -1], [233, -1], [30, -1], [10, -1], [0, 6], [0, 0], [6, 4], [-1, -1], [6, -1], [0, -1], [10, -1], [2, 3], [0, 6], [-1, -1], [6, -1], [0, -1], [6, -1], [2, 3], [0, 6], [-1, -1], [0, -1], [6, -1], [0, 6], [0, 14], [0, 10], [4, 24], [14, 96], [96, 6], [-1, -1], [0, 90], [-1, -1], [90, 48], [3, 225], [4, 18], [2, 9], [96, -1], [10, -1], [1, -1], [9, 24], [6, 216], [-1, -1], [48, -1], [0, -1], [9, 2], [225, 3], [18, 4], [0, 0], [2, 3], [216, -1], [90, -1], [0, 6], [0, 0], [6, 4], [-1, -1], [24, 20], [-1, -1], [4, 24], [0, 96], [0, 10], [-1, -1], [0, 96], [0, 0], [0, 0], [0, 0], [0, 0], [0, -1], [0, 0], [0, -1], [96, 96], [0, 0], [4, 24], [0, -1], [0, 14], [0, 10], [10, 0], [2, 2], [0, 4], [14, -1], [3, 3], [4, 9], [0, 0], [96, 13], [0, 0], [1, 83], [-1, -1], [0, 16], [10, 99], [16, -1], [2, 3], [0, 6], [-1, -1]]\n",
      "149\n"
     ]
    }
   ],
   "source": [
    "print(train_Set_Extracted[0][1])\n",
    "print(len(train_Set_Extracted[0][1]))"
   ]
  },
  {
   "cell_type": "code",
   "execution_count": 21,
   "id": "47e078df",
   "metadata": {},
   "outputs": [
    {
     "name": "stdout",
     "output_type": "stream",
     "text": [
      "[[6, 0, 0, 0, 0, 0, 0, 0, 0, 0, 0, 0, 0, 0, 0, 0, 2, 3, 4, 24, 1, 0, 10, 0, 4, 10, 0, 0, 0, 0, 0, 0], [6, 0, 0, 0, 0, 0, 0, 0, 0, 0, 0, 0, 0, 0, 0, 0, 2, 3, 4, 24, 2, 0, 10, 0, 4, 10, 0, 0, 0, 0, 0, 0], [6, 0, 0, 0, 0, 0, 0, 0, 0, 0, 0, 0, 0, 0, 0, 0, 2, 3, 4, 24, 2, 0, 10, 0, 4, 10, 0, 0, 0, 0, 0, 0], [6, 0, 0, 0, 0, 0, 0, 0, 0, 0, 0, 0, 0, 0, 0, 0, 2, 3, 4, 24, 2, 0, 10, 0, 4, 10, 0, 0, 0, 0, 0, 0], [6, 0, 0, 0, 0, 0, 0, 0, 0, 0, 0, 0, 0, 0, 0, 0, 2, 3, 4, 24, 2, 0, 10, 0, 4, 10, 0, 0, 0, 0, 0, 0], [6, 0, 0, 0, 0, 0, 0, 0, 0, 0, 0, 0, 0, 0, 0, 0, 2, 3, 4, 24, 2, 0, 10, 0, 4, 10, 0, 0, 0, 0, 0, 0], [6, 0, 0, 0, 0, 0, 0, 0, 0, 0, 0, 0, 0, 0, 0, 0, 2, 3, 4, 24, 2, 0, 10, 0, 4, 10, 0, 0, 0, 0, 0, 0], [6, 0, 0, 0, 0, 0, 0, 0, 0, 0, 0, 0, 0, 0, 0, 0, 2, 3, 4, 24, 2, 0, 10, 6, 4, 10, 0, 0, 0, 0, 0, 0], [6, 0, 0, 0, 0, 0, 0, 0, 0, 0, 0, 0, 0, 0, 0, 0, 2, 3, 4, 24, 2, 0, 10, 6, 4, 10, 0, 0, 0, 0, 0, 0], [6, 0, 0, 0, 0, 0, 0, 0, 0, 0, 0, 0, 0, 0, 0, 0, 2, 3, 4, 24, 2, 250, 10, 6, 4, 10, 0, 0, 0, 0, 0, 0], [6, 0, 0, 0, 0, 0, 0, 0, 0, 0, 0, 0, 0, 0, 0, 0, 2, 3, 4, 24, 2, 250, 5, 6, 4, 10, 0, 0, 0, 0, 0, 0], [6, 0, 0, 0, 0, 0, 0, 0, 0, 0, 0, 0, 0, 0, 0, 0, 2, 3, 4, 24, 250, 250, 5, 6, 4, 10, 0, 0, 0, 0, 0, 0], [6, 0, 0, 0, 0, 0, 0, 0, 0, 0, 0, 0, 0, 0, 0, 0, 2, 3, 4, 24, 250, 250, 5, 6, 4, 10, 0, 0, 0, 0, 0, 0], [6, 0, 0, 0, 0, 0, 0, 0, 0, 0, 0, 0, 0, 0, 0, 0, 2, 3, 4, 24, 0, 250, 5, 6, 4, 10, 0, 0, 0, 0, 0, 0], [6, 0, 0, 0, 0, 0, 0, 0, 0, 0, 0, 0, 0, 0, 0, 0, 2, 3, 4, 24, 0, 0, 5, 6, 4, 10, 0, 0, 0, 0, 0, 0], [6, 0, 0, 0, 0, 0, 0, 0, 0, 0, 0, 0, 0, 0, 0, 0, 2, 3, 4, 24, 0, 0, 10, 6, 4, 10, 0, 0, 0, 0, 0, 0], [6, 0, 0, 0, 0, 0, 0, 0, 0, 0, 0, 0, 0, 0, 0, 0, 2, 3, 4, 24, 0, 0, 10, 0, 4, 10, 0, 0, 0, 0, 0, 0], [6, 0, 0, 0, 0, 0, 0, 0, 0, 0, 0, 0, 0, 0, 0, 0, 2, 3, 4, 24, 0, 0, 10, 0, 24, 10, 0, 0, 0, 0, 0, 0], [6, 0, 0, 0, 0, 0, 0, 0, 0, 0, 0, 0, 0, 0, 0, 0, 2, 3, 4, 24, 0, 0, 10, 0, 24, 10, 0, 0, 0, 0, 0, 0], [6, 0, 0, 0, 0, 0, 0, 0, 0, 0, 0, 0, 0, 0, 0, 0, 2, 3, 4, 24, 0, 0, 10, 0, 24, 10, 0, 0, 0, 0, 0, 0], [6, 0, 0, 0, 0, 0, 0, 0, 0, 0, 0, 0, 0, 0, 0, 0, 2, 3, 4, 24, 0, 0, 10, 0, 14, 10, 0, 0, 0, 0, 0, 0], [6, 0, 0, 0, 0, 0, 0, 0, 0, 0, 0, 0, 0, 0, 0, 0, 2, 3, 4, 24, 1, 0, 10, 0, 14, 10, 0, 0, 0, 0, 0, 0], [6, 0, 0, 0, 0, 0, 0, 0, 0, 0, 0, 0, 0, 0, 0, 0, 2, 3, 4, 24, 1, 0, 10, 0, 14, 10, 0, 0, 0, 0, 0, 0], [6, 0, 0, 0, 0, 0, 0, 0, 0, 0, 0, 0, 0, 0, 0, 0, 2, 3, 4, 24, 1, 0, 10, 0, 14, 10, 0, 0, 0, 0, 0, 0], [96, 0, 0, 0, 0, 0, 0, 0, 0, 0, 0, 0, 0, 0, 0, 0, 2, 3, 4, 24, 1, 0, 10, 0, 14, 10, 0, 0, 0, 0, 0, 0], [96, 0, 0, 0, 0, 0, 0, 0, 0, 0, 0, 0, 0, 0, 0, 0, 2, 3, 4, 24, 1, 96, 10, 0, 14, 10, 0, 0, 0, 0, 0, 0], [96, 0, 0, 0, 0, 0, 0, 0, 0, 0, 0, 0, 0, 0, 0, 0, 2, 3, 4, 24, 1, 96, 0, 0, 14, 10, 0, 0, 0, 0, 0, 0], [4, 0, 0, 0, 0, 0, 0, 0, 0, 0, 0, 0, 0, 0, 0, 0, 2, 3, 4, 24, 1, 96, 0, 0, 14, 10, 0, 0, 0, 0, 0, 0], [4, 0, 0, 0, 0, 0, 0, 0, 0, 0, 0, 0, 0, 0, 0, 0, 2, 3, 4, 24, 1, 96, 0, 4, 14, 10, 0, 0, 0, 0, 0, 0], [4, 0, 0, 0, 0, 0, 0, 0, 0, 0, 0, 0, 0, 0, 0, 0, 2, 3, 4, 24, 1, 96, 0, 4, 0, 10, 0, 0, 0, 0, 0, 0], [4, 0, 0, 0, 0, 0, 0, 0, 0, 0, 0, 0, 0, 0, 0, 0, 2, 3, 4, 24, 2, 96, 0, 4, 0, 10, 0, 0, 0, 0, 0, 0], [4, 0, 0, 0, 0, 0, 0, 0, 0, 0, 0, 0, 0, 0, 0, 0, 2, 3, 4, 24, 2, 0, 0, 4, 0, 10, 0, 0, 0, 0, 0, 0], [4, 0, 0, 0, 0, 0, 0, 0, 0, 0, 0, 0, 0, 0, 0, 0, 2, 3, 4, 24, 2, 0, 10, 4, 0, 10, 0, 0, 0, 0, 0, 0], [4, 0, 0, 0, 0, 0, 0, 0, 0, 0, 0, 0, 0, 0, 0, 0, 2, 3, 4, 24, 2, 0, 10, 0, 0, 10, 0, 0, 0, 0, 0, 0], [4, 0, 0, 0, 0, 0, 0, 0, 0, 0, 0, 0, 0, 0, 0, 0, 2, 3, 4, 24, 2, 0, 10, 0, 4, 10, 0, 0, 0, 0, 0, 0], [0, 0, 0, 0, 0, 0, 0, 0, 0, 0, 0, 0, 0, 0, 0, 0, 2, 3, 4, 24, 2, 0, 10, 0, 4, 10, 0, 0, 0, 0, 0, 0], [0, 0, 0, 0, 0, 0, 0, 0, 0, 0, 0, 0, 0, 0, 0, 0, 2, 3, 4, 24, 2, 0, 10, 0, 4, 10, 0, 0, 0, 0, 0, 0], [0, 0, 0, 0, 0, 0, 0, 0, 0, 0, 0, 0, 0, 0, 0, 0, 2, 3, 4, 24, 2, 0, 0, 0, 4, 10, 0, 0, 0, 0, 0, 0], [6, 0, 0, 0, 0, 0, 0, 0, 0, 0, 0, 0, 0, 0, 0, 0, 2, 3, 4, 24, 2, 0, 0, 0, 4, 10, 0, 0, 0, 0, 0, 0], [6, 0, 0, 0, 0, 0, 0, 0, 0, 0, 0, 0, 0, 0, 0, 0, 2, 3, 4, 24, 2, 0, 6, 0, 4, 10, 0, 0, 0, 0, 0, 0], [6, 0, 0, 0, 0, 0, 0, 0, 0, 0, 0, 0, 0, 0, 0, 0, 2, 3, 4, 24, 2, 0, 6, 0, 4, 10, 0, 0, 0, 0, 0, 0], [6, 0, 0, 0, 0, 0, 0, 0, 0, 0, 0, 0, 0, 0, 0, 0, 2, 83, 4, 24, 2, 0, 6, 0, 4, 10, 0, 0, 0, 0, 0, 0], [6, 0, 0, 0, 0, 0, 0, 0, 0, 0, 0, 0, 0, 0, 0, 0, 2, 83, 139, 24, 2, 0, 6, 0, 4, 10, 0, 0, 0, 0, 0, 0], [6, 0, 0, 0, 0, 0, 0, 0, 0, 0, 0, 0, 0, 0, 0, 0, 200, 83, 139, 24, 2, 0, 6, 0, 4, 10, 0, 0, 0, 0, 0, 0], [233, 26, 0, 0, 0, 0, 0, 0, 0, 0, 0, 0, 0, 0, 0, 0, 200, 83, 139, 24, 2, 0, 6, 0, 4, 10, 0, 0, 0, 0, 0, 0], [233, 26, 0, 0, 0, 0, 0, 0, 0, 0, 0, 0, 0, 0, 0, 0, 200, 83, 139, 24, 2, 0, 6, 233, 4, 10, 0, 0, 0, 0, 0, 0], [233, 26, 0, 0, 0, 0, 0, 0, 0, 0, 0, 0, 0, 0, 0, 0, 200, 83, 139, 24, 2, 0, 6, 233, 30, 10, 0, 0, 0, 0, 0, 0], [233, 26, 0, 0, 0, 0, 0, 0, 0, 0, 0, 0, 0, 0, 0, 0, 200, 83, 139, 24, 2, 23, 6, 233, 30, 10, 0, 0, 0, 0, 0, 0], [233, 26, 0, 0, 0, 0, 0, 0, 0, 0, 0, 0, 0, 0, 0, 0, 200, 83, 139, 24, 2, 23, 231, 233, 30, 10, 0, 0, 0, 0, 0, 0], [233, 26, 0, 0, 0, 0, 0, 0, 0, 0, 0, 0, 0, 0, 0, 0, 200, 83, 139, 24, 23, 23, 231, 233, 30, 10, 0, 0, 0, 0, 0, 0], [233, 26, 0, 0, 0, 0, 0, 0, 0, 0, 0, 0, 0, 0, 0, 0, 200, 83, 139, 24, 23, 23, 231, 233, 30, 10, 0, 0, 0, 0, 0, 0], [0, 26, 0, 0, 0, 0, 0, 0, 0, 0, 0, 0, 0, 0, 0, 0, 200, 83, 139, 24, 23, 23, 231, 233, 30, 10, 0, 0, 0, 0, 0, 0], [0, 0, 0, 0, 0, 0, 0, 0, 0, 0, 0, 0, 0, 0, 0, 0, 200, 83, 139, 24, 23, 23, 231, 233, 30, 10, 0, 0, 0, 0, 0, 0], [0, 0, 0, 0, 0, 0, 0, 0, 0, 0, 0, 0, 0, 0, 0, 0, 200, 83, 139, 24, 23, 23, 0, 233, 30, 10, 0, 0, 0, 0, 0, 0], [0, 0, 0, 0, 0, 0, 0, 0, 0, 0, 0, 0, 0, 0, 0, 0, 2, 83, 139, 24, 23, 23, 0, 233, 30, 10, 0, 0, 0, 0, 0, 0], [0, 0, 0, 0, 0, 0, 0, 0, 0, 0, 0, 0, 0, 0, 0, 0, 2, 3, 139, 24, 23, 23, 0, 233, 30, 10, 0, 0, 0, 0, 0, 0], [0, 0, 0, 0, 0, 0, 0, 0, 0, 0, 0, 0, 0, 0, 0, 0, 2, 3, 4, 24, 23, 23, 0, 233, 30, 10, 0, 0, 0, 0, 0, 0], [6, 0, 0, 0, 0, 0, 0, 0, 0, 0, 0, 0, 0, 0, 0, 0, 2, 3, 4, 24, 23, 23, 0, 233, 30, 10, 0, 0, 0, 0, 0, 0], [6, 0, 0, 0, 0, 0, 0, 0, 0, 0, 0, 0, 0, 0, 0, 0, 2, 3, 4, 24, 0, 23, 0, 233, 30, 10, 0, 0, 0, 0, 0, 0], [6, 0, 0, 0, 0, 0, 0, 0, 0, 0, 0, 0, 0, 0, 0, 0, 2, 3, 4, 24, 0, 0, 0, 233, 30, 10, 0, 0, 0, 0, 0, 0], [6, 0, 0, 0, 0, 0, 0, 0, 0, 0, 0, 0, 0, 0, 0, 0, 2, 3, 4, 24, 0, 0, 0, 0, 30, 10, 0, 0, 0, 0, 0, 0], [6, 0, 0, 0, 0, 0, 0, 0, 0, 0, 0, 0, 0, 0, 0, 0, 2, 3, 4, 24, 0, 0, 0, 0, 0, 10, 0, 0, 0, 0, 0, 0], [6, 0, 0, 0, 0, 0, 0, 0, 0, 0, 0, 0, 0, 0, 0, 0, 2, 3, 4, 24, 0, 0, 0, 0, 0, 0, 0, 0, 0, 0, 0, 0], [6, 0, 0, 0, 0, 0, 0, 0, 0, 0, 0, 0, 0, 0, 0, 0, 2, 3, 4, 24, 0, 0, 6, 0, 0, 0, 0, 0, 0, 0, 0, 0], [6, 0, 0, 0, 0, 0, 0, 0, 0, 0, 0, 0, 0, 0, 0, 0, 2, 3, 4, 24, 0, 0, 6, 0, 0, 0, 0, 0, 0, 0, 0, 0], [6, 0, 0, 0, 0, 0, 0, 0, 0, 0, 0, 0, 0, 0, 0, 0, 2, 3, 4, 24, 0, 0, 10, 0, 0, 0, 0, 0, 0, 0, 0, 0], [6, 0, 0, 0, 0, 0, 0, 0, 0, 0, 0, 0, 0, 0, 0, 0, 2, 3, 4, 24, 0, 0, 10, 0, 0, 0, 0, 0, 0, 0, 0, 0], [0, 0, 0, 0, 0, 0, 0, 0, 0, 0, 0, 0, 0, 0, 0, 0, 2, 3, 4, 24, 0, 0, 10, 0, 0, 0, 0, 0, 0, 0, 0, 0], [0, 0, 0, 0, 0, 0, 0, 0, 0, 0, 0, 0, 0, 0, 0, 0, 2, 3, 4, 24, 0, 0, 10, 0, 0, 0, 0, 0, 0, 0, 0, 0], [0, 0, 0, 0, 0, 0, 0, 0, 0, 0, 0, 0, 0, 0, 0, 0, 2, 3, 4, 24, 0, 0, 0, 0, 0, 0, 0, 0, 0, 0, 0, 0], [6, 0, 0, 0, 0, 0, 0, 0, 0, 0, 0, 0, 0, 0, 0, 0, 2, 3, 4, 24, 0, 0, 0, 0, 0, 0, 0, 0, 0, 0, 0, 0], [6, 0, 0, 0, 0, 0, 0, 0, 0, 0, 0, 0, 0, 0, 0, 0, 2, 3, 4, 24, 0, 0, 6, 0, 0, 0, 0, 0, 0, 0, 0, 0], [6, 0, 0, 0, 0, 0, 0, 0, 0, 0, 0, 0, 0, 0, 0, 0, 2, 3, 4, 24, 0, 0, 6, 0, 0, 0, 0, 0, 0, 0, 0, 0], [0, 0, 0, 0, 0, 0, 0, 0, 0, 0, 0, 0, 0, 0, 0, 0, 2, 3, 4, 24, 0, 0, 6, 0, 0, 0, 0, 0, 0, 0, 0, 0], [0, 0, 0, 0, 0, 0, 0, 0, 0, 0, 0, 0, 0, 0, 0, 0, 2, 3, 4, 24, 0, 0, 6, 0, 0, 0, 0, 0, 0, 0, 0, 0], [0, 0, 0, 0, 0, 0, 0, 0, 0, 0, 0, 0, 0, 0, 0, 0, 2, 3, 4, 24, 0, 0, 0, 0, 0, 0, 0, 0, 0, 0, 0, 0], [6, 0, 0, 0, 0, 0, 0, 0, 0, 0, 0, 0, 0, 0, 0, 0, 2, 3, 4, 24, 0, 0, 0, 0, 0, 0, 0, 0, 0, 0, 0, 0], [6, 0, 0, 0, 0, 0, 0, 0, 0, 0, 0, 0, 0, 0, 0, 0, 2, 3, 4, 24, 0, 0, 6, 0, 0, 0, 0, 0, 0, 0, 0, 0], [6, 0, 0, 0, 0, 0, 0, 0, 0, 0, 0, 0, 0, 0, 0, 0, 2, 3, 4, 24, 0, 0, 6, 0, 0, 0, 0, 0, 0, 0, 0, 0], [6, 0, 0, 0, 0, 0, 0, 0, 0, 0, 0, 0, 0, 0, 0, 0, 2, 3, 4, 24, 1, 0, 6, 0, 0, 0, 0, 0, 0, 0, 0, 0], [6, 0, 0, 0, 0, 0, 0, 0, 0, 0, 0, 0, 0, 0, 0, 0, 2, 3, 4, 24, 1, 0, 0, 0, 0, 0, 0, 0, 0, 0, 0, 0], [6, 0, 0, 0, 0, 0, 0, 0, 0, 0, 0, 0, 0, 0, 0, 0, 2, 3, 4, 24, 1, 0, 0, 6, 0, 0, 0, 0, 0, 0, 0, 0], [6, 0, 0, 0, 0, 0, 0, 0, 0, 0, 0, 0, 0, 0, 0, 0, 2, 3, 4, 24, 1, 0, 0, 6, 14, 0, 0, 0, 0, 0, 0, 0], [6, 0, 0, 0, 0, 0, 0, 0, 0, 0, 0, 0, 0, 0, 0, 0, 2, 3, 4, 24, 1, 0, 0, 6, 14, 10, 0, 0, 0, 0, 0, 0], [96, 0, 0, 0, 0, 0, 0, 0, 0, 0, 0, 0, 0, 0, 0, 0, 2, 3, 4, 24, 1, 0, 0, 6, 14, 10, 0, 0, 0, 0, 0, 0], [96, 0, 0, 0, 0, 0, 0, 0, 0, 0, 0, 0, 0, 0, 0, 0, 2, 3, 4, 24, 1, 0, 0, 6, 96, 10, 0, 0, 0, 0, 0, 0], [96, 0, 0, 0, 0, 0, 0, 0, 0, 0, 0, 0, 0, 0, 0, 0, 2, 3, 4, 24, 1, 0, 0, 6, 90, 10, 0, 0, 0, 0, 0, 0], [96, 0, 0, 0, 0, 0, 0, 0, 0, 0, 0, 0, 0, 0, 0, 0, 2, 3, 4, 24, 1, 0, 0, 6, 90, 10, 0, 0, 0, 0, 0, 0], [96, 0, 0, 0, 0, 0, 0, 0, 0, 0, 0, 0, 0, 0, 0, 0, 2, 3, 4, 24, 1, 0, 90, 6, 90, 10, 0, 0, 0, 0, 0, 0], [96, 0, 0, 0, 0, 0, 0, 0, 0, 0, 0, 0, 0, 0, 0, 0, 2, 3, 4, 24, 1, 0, 90, 6, 90, 10, 0, 0, 0, 0, 0, 0], [96, 0, 0, 0, 0, 0, 0, 0, 0, 0, 0, 0, 0, 0, 0, 0, 2, 3, 4, 24, 1, 0, 48, 6, 90, 10, 0, 0, 0, 0, 0, 0], [96, 0, 0, 0, 0, 0, 0, 0, 0, 0, 0, 0, 0, 0, 0, 0, 2, 225, 4, 24, 1, 0, 48, 6, 90, 10, 0, 0, 0, 0, 0, 0], [96, 0, 0, 0, 0, 0, 0, 0, 0, 0, 0, 0, 0, 0, 0, 0, 2, 225, 18, 24, 1, 0, 48, 6, 90, 10, 0, 0, 0, 0, 0, 0], [96, 0, 0, 0, 0, 0, 0, 0, 0, 0, 0, 0, 0, 0, 0, 0, 9, 225, 18, 24, 1, 0, 48, 6, 90, 10, 0, 0, 0, 0, 0, 0], [0, 0, 0, 0, 0, 0, 0, 0, 0, 0, 0, 0, 0, 0, 0, 0, 9, 225, 18, 24, 1, 0, 48, 6, 90, 10, 0, 0, 0, 0, 0, 0], [0, 0, 0, 0, 0, 0, 0, 0, 0, 0, 0, 0, 0, 0, 0, 0, 9, 225, 18, 24, 1, 0, 48, 6, 90, 0, 0, 0, 0, 0, 0, 0], [0, 0, 0, 0, 0, 0, 0, 0, 0, 0, 0, 0, 0, 0, 0, 0, 9, 225, 18, 24, 0, 0, 48, 6, 90, 0, 0, 0, 0, 0, 0, 0], [216, 0, 0, 0, 0, 0, 0, 0, 0, 0, 0, 0, 0, 0, 0, 0, 9, 225, 18, 24, 0, 0, 48, 6, 90, 0, 0, 0, 0, 0, 0, 0], [216, 0, 0, 0, 0, 0, 0, 0, 0, 0, 0, 0, 0, 0, 0, 0, 9, 225, 18, 24, 0, 0, 48, 216, 90, 0, 0, 0, 0, 0, 0, 0], [216, 0, 0, 0, 0, 0, 0, 0, 0, 0, 0, 0, 0, 0, 0, 0, 9, 225, 18, 24, 0, 0, 48, 216, 90, 0, 0, 0, 0, 0, 0, 0], [216, 0, 0, 0, 0, 0, 0, 0, 0, 0, 0, 0, 0, 0, 0, 0, 9, 225, 18, 24, 0, 0, 0, 216, 90, 0, 0, 0, 0, 0, 0, 0], [216, 0, 0, 0, 0, 0, 0, 0, 0, 0, 0, 0, 0, 0, 0, 0, 9, 225, 18, 24, 0, 0, 0, 216, 90, 0, 0, 0, 0, 0, 0, 0], [216, 0, 0, 0, 0, 0, 0, 0, 0, 0, 0, 0, 0, 0, 0, 0, 2, 225, 18, 24, 0, 0, 0, 216, 90, 0, 0, 0, 0, 0, 0, 0], [216, 0, 0, 0, 0, 0, 0, 0, 0, 0, 0, 0, 0, 0, 0, 0, 2, 3, 18, 24, 0, 0, 0, 216, 90, 0, 0, 0, 0, 0, 0, 0], [216, 0, 0, 0, 0, 0, 0, 0, 0, 0, 0, 0, 0, 0, 0, 0, 2, 3, 4, 24, 0, 0, 0, 216, 90, 0, 0, 0, 0, 0, 0, 0], [216, 0, 0, 0, 0, 0, 0, 0, 0, 0, 0, 0, 0, 0, 0, 0, 2, 3, 4, 24, 0, 0, 0, 216, 90, 0, 0, 0, 0, 0, 0, 0], [6, 0, 0, 0, 0, 0, 0, 0, 0, 0, 0, 0, 0, 0, 0, 0, 2, 3, 4, 24, 0, 0, 0, 216, 90, 0, 0, 0, 0, 0, 0, 0], [6, 0, 0, 0, 0, 0, 0, 0, 0, 0, 0, 0, 0, 0, 0, 0, 2, 3, 4, 24, 0, 0, 0, 0, 90, 0, 0, 0, 0, 0, 0, 0], [6, 0, 0, 0, 0, 0, 0, 0, 0, 0, 0, 0, 0, 0, 0, 0, 2, 3, 4, 24, 0, 0, 0, 0, 0, 0, 0, 0, 0, 0, 0, 0], [6, 0, 0, 0, 0, 0, 0, 0, 0, 0, 0, 0, 0, 0, 0, 0, 2, 3, 4, 24, 0, 0, 6, 0, 0, 0, 0, 0, 0, 0, 0, 0], [6, 0, 0, 0, 0, 0, 0, 0, 0, 0, 0, 0, 0, 0, 0, 0, 2, 3, 4, 24, 0, 0, 6, 0, 0, 0, 0, 0, 0, 0, 0, 0], [6, 0, 0, 0, 0, 0, 0, 0, 0, 0, 0, 0, 0, 0, 0, 0, 2, 3, 4, 24, 0, 0, 10, 0, 0, 0, 0, 0, 0, 0, 0, 0], [6, 0, 0, 0, 0, 0, 0, 0, 0, 0, 0, 0, 0, 0, 0, 0, 2, 3, 4, 24, 0, 0, 10, 0, 0, 0, 0, 0, 0, 0, 0, 0], [6, 0, 0, 0, 0, 0, 0, 0, 0, 0, 0, 0, 0, 0, 0, 0, 2, 3, 4, 24, 0, 0, 10, 0, 0, 0, 0, 0, 0, 0, 0, 0], [6, 0, 0, 0, 0, 0, 0, 0, 0, 0, 0, 0, 0, 0, 0, 0, 2, 3, 4, 24, 0, 0, 10, 0, 0, 0, 0, 0, 0, 0, 0, 0], [96, 0, 0, 0, 0, 0, 0, 0, 0, 0, 0, 0, 0, 0, 0, 0, 2, 3, 4, 24, 0, 0, 10, 0, 0, 0, 0, 0, 0, 0, 0, 0], [96, 0, 0, 0, 0, 0, 0, 0, 0, 0, 0, 0, 0, 0, 0, 0, 2, 3, 4, 24, 0, 96, 10, 0, 0, 0, 0, 0, 0, 0, 0, 0], [96, 0, 0, 0, 0, 0, 0, 0, 0, 0, 0, 0, 0, 0, 0, 0, 2, 3, 4, 24, 0, 96, 10, 0, 0, 0, 0, 0, 0, 0, 0, 0], [96, 0, 0, 0, 0, 0, 0, 0, 0, 0, 0, 0, 0, 0, 0, 0, 2, 3, 4, 24, 0, 96, 10, 0, 0, 0, 0, 0, 0, 0, 0, 0], [0, 0, 0, 0, 0, 0, 0, 0, 0, 0, 0, 0, 0, 0, 0, 0, 2, 3, 4, 24, 0, 96, 10, 0, 0, 0, 0, 0, 0, 0, 0, 0], [0, 0, 0, 0, 0, 0, 0, 0, 0, 0, 0, 0, 0, 0, 0, 0, 2, 3, 4, 24, 0, 96, 10, 0, 0, 0, 0, 0, 0, 0, 0, 0], [0, 0, 0, 0, 0, 0, 0, 0, 0, 0, 0, 0, 0, 0, 0, 0, 2, 3, 4, 24, 0, 96, 10, 0, 0, 0, 0, 0, 0, 0, 0, 0], [0, 0, 0, 0, 0, 0, 0, 0, 0, 0, 0, 0, 0, 0, 0, 0, 2, 3, 4, 24, 0, 96, 10, 0, 0, 0, 0, 0, 0, 0, 0, 0], [0, 0, 0, 0, 0, 0, 0, 0, 0, 0, 0, 0, 0, 0, 0, 0, 2, 3, 4, 24, 0, 96, 10, 0, 0, 0, 0, 0, 0, 0, 0, 0], [0, 0, 0, 0, 0, 0, 0, 0, 0, 0, 0, 0, 0, 0, 0, 0, 2, 3, 4, 24, 0, 96, 10, 0, 0, 0, 0, 0, 0, 0, 0, 0], [0, 0, 0, 0, 0, 0, 0, 0, 0, 0, 0, 0, 0, 0, 0, 0, 2, 3, 4, 24, 0, 96, 10, 0, 0, 0, 0, 0, 0, 0, 0, 0], [0, 0, 0, 0, 0, 0, 0, 0, 0, 0, 0, 0, 0, 0, 0, 0, 2, 3, 4, 24, 0, 96, 10, 0, 0, 0, 0, 0, 0, 0, 0, 0], [0, 36, 0, 0, 0, 0, 0, 0, 0, 0, 0, 0, 0, 0, 0, 0, 2, 3, 4, 24, 0, 96, 10, 0, 0, 0, 0, 0, 0, 0, 0, 0], [0, 36, 0, 0, 0, 0, 0, 0, 0, 0, 0, 0, 0, 0, 0, 0, 2, 3, 4, 24, 0, 96, 10, 0, 0, 0, 0, 0, 0, 0, 0, 0], [96, 0, 0, 0, 0, 0, 0, 0, 0, 0, 0, 0, 0, 0, 0, 0, 2, 3, 4, 24, 0, 96, 10, 0, 0, 0, 0, 0, 0, 0, 0, 0], [96, 0, 0, 0, 0, 0, 0, 0, 0, 0, 0, 0, 0, 0, 0, 0, 2, 3, 4, 24, 1, 96, 10, 0, 0, 0, 0, 0, 0, 0, 0, 0], [96, 0, 0, 0, 0, 0, 0, 0, 0, 0, 0, 0, 0, 0, 0, 0, 2, 3, 4, 24, 1, 96, 10, 0, 14, 0, 0, 0, 0, 0, 0, 0], [96, 0, 0, 0, 0, 0, 0, 0, 0, 0, 0, 0, 0, 0, 0, 0, 2, 3, 4, 24, 1, 96, 10, 0, 14, 10, 0, 0, 0, 0, 0, 0], [96, 0, 0, 0, 0, 0, 0, 0, 0, 0, 0, 0, 0, 0, 0, 0, 2, 3, 4, 24, 1, 96, 0, 0, 14, 10, 0, 0, 0, 0, 0, 0], [4, 0, 0, 0, 0, 0, 0, 0, 0, 0, 0, 0, 0, 0, 0, 0, 2, 3, 4, 24, 1, 96, 0, 0, 14, 10, 0, 0, 0, 0, 0, 0], [4, 0, 0, 0, 0, 0, 0, 0, 0, 0, 0, 0, 0, 0, 0, 0, 2, 3, 4, 24, 1, 96, 0, 4, 14, 10, 0, 0, 0, 0, 0, 0], [4, 0, 0, 0, 0, 0, 0, 0, 0, 0, 0, 0, 0, 0, 0, 0, 2, 3, 4, 24, 1, 96, 0, 4, 0, 10, 0, 0, 0, 0, 0, 0], [9, 0, 0, 0, 0, 0, 0, 0, 0, 0, 0, 0, 0, 0, 0, 0, 2, 3, 4, 24, 1, 96, 0, 4, 0, 10, 0, 0, 0, 0, 0, 0], [9, 0, 0, 0, 0, 0, 0, 0, 0, 0, 0, 0, 0, 0, 0, 0, 2, 3, 4, 24, 1, 96, 0, 13, 0, 10, 0, 0, 0, 0, 0, 0], [9, 0, 0, 0, 0, 0, 0, 0, 0, 0, 0, 0, 0, 0, 0, 0, 2, 3, 4, 24, 1, 96, 0, 13, 0, 10, 0, 0, 0, 0, 0, 0], [9, 0, 0, 0, 0, 0, 0, 0, 0, 0, 0, 0, 0, 0, 0, 0, 2, 3, 4, 24, 1, 83, 0, 13, 0, 10, 0, 0, 0, 0, 0, 0], [9, 0, 0, 0, 0, 0, 0, 0, 0, 0, 0, 0, 0, 0, 0, 0, 2, 3, 4, 24, 1, 83, 0, 13, 0, 10, 0, 0, 0, 0, 0, 0], [9, 0, 0, 0, 0, 0, 0, 0, 0, 0, 0, 0, 0, 0, 0, 0, 2, 3, 4, 24, 83, 83, 0, 13, 0, 10, 0, 0, 0, 0, 0, 0], [9, 0, 0, 0, 0, 0, 0, 0, 0, 0, 0, 0, 0, 0, 0, 0, 2, 3, 4, 24, 83, 83, 0, 13, 0, 10, 0, 0, 0, 0, 0, 0], [9, 0, 0, 0, 0, 0, 0, 0, 0, 0, 0, 0, 0, 0, 0, 0, 2, 3, 4, 24, 83, 83, 16, 13, 0, 10, 0, 0, 0, 0, 0, 0], [9, 0, 0, 0, 0, 0, 0, 0, 0, 0, 0, 0, 0, 0, 0, 0, 2, 3, 4, 24, 83, 83, 16, 13, 0, 99, 0, 0, 0, 0, 0, 0], [9, 0, 0, 0, 0, 0, 0, 0, 0, 0, 0, 0, 0, 0, 0, 0, 2, 3, 4, 24, 83, 83, 0, 13, 0, 99, 0, 0, 0, 0, 0, 0], [6, 0, 0, 0, 0, 0, 0, 0, 0, 0, 0, 0, 0, 0, 0, 0, 2, 3, 4, 24, 83, 83, 0, 13, 0, 99, 0, 0, 0, 0, 0, 0], [6, 0, 0, 0, 0, 0, 0, 0, 0, 0, 0, 0, 0, 0, 0, 0, 2, 3, 4, 24, 83, 83, 6, 13, 0, 99, 0, 0, 0, 0, 0, 0]]\n",
      "149\n"
     ]
    }
   ],
   "source": [
    "print(train_Set_Extracted[0][2])\n",
    "print(len(train_Set_Extracted[0][2]))"
   ]
  },
  {
   "cell_type": "markdown",
   "id": "9a7acaa3",
   "metadata": {},
   "source": [
    "## This method simply calculates the minimum and maximum index (time) 1 cycle (bottom of prior cycle to top of the next cycle) and to top takes across all training program in order to make an informed choice of the necessary length of the cycle for the model to generate.\n",
    "- the cycles may take slightly different index length due to cycle/time drifting."
   ]
  },
  {
   "cell_type": "code",
   "execution_count": 23,
   "id": "492be027",
   "metadata": {},
   "outputs": [],
   "source": [
    "'''\n",
    "Returns all unique lengths of the time (indexies) it takes to complete one cycle\n",
    "'''\n",
    "def getLengthCycles(train_Set_Extracted, train_Set_Signals, train_Set_Codes, sequence_size, \n",
    "                                       include_c_Values=True, include_States=True, pad = 7, check=0):\n",
    "    start_peak = -2\n",
    "    end_peak = 1\n",
    "    \n",
    "    # First obtain the Sequence_Code, Register_Values and Target_States\n",
    "    ## cycle through each training set\n",
    "    train_Set = train_Set_Extracted[check]\n",
    "    train_Signals = train_Set_Signals[check]\n",
    "    train_Code = train_Set_Codes[check]\n",
    "\n",
    "    ## Obtain the assembly instructions (ASM_Inst), current values (c_Values), and states.\n",
    "    ASM_Inst, c_Values, states = train_Set\n",
    "\n",
    "    ## Cycle though each instance\n",
    "    for i in range(len(ASM_Inst)-sequence_size):\n",
    "        info=[]\n",
    "        target = \"\"\n",
    "\n",
    "        ## Cycle through sequence_size\n",
    "        for n in range(sequence_size+1):\n",
    "            ## obtain the instruction in the sequence\n",
    "            info.append(ASM_Inst[i+n])\n",
    "            target = ASM_Inst[i+n]\n",
    "\n",
    "            ## obtain current values before executing each instruction in the sequence\n",
    "            if include_c_Values:\n",
    "                info.append(c_Values[i-n][0])\n",
    "                info.append(c_Values[i-n][1])\n",
    "\n",
    "        ## Since the model generates cycles (2 waves) at a time, we need to check how many cycles the target instruction\n",
    "        ## has and also add the info for each cycle along with an indicator on which cycle to generate.\n",
    "        #print(target)\n",
    "        #print(Inst_Info.getCycles(target))\n",
    "        amount_Cycles = Inst_Info.getCycles(target)\n",
    "        for i in range(amount_Cycles):\n",
    "\n",
    "            # Add to the y instance of the target instructions cyles  signal\n",
    "            ## Identify the start and end of the signal peaks to extract for y\n",
    "            start_peak = start_peak + 2\n",
    "            end_peak = end_peak + 2\n",
    "\n",
    "            # Checker\n",
    "            ## Check if taking correct from full signal\n",
    "            '''\n",
    "            code = train_Code\n",
    "            Signal = train_Signals[0]\n",
    "\n",
    "            time_Signal = np.arange(Signal.shape[0])\n",
    "            plt.plot(time_Signal, Signal)\n",
    "            MapTool.mapCodeSignal(Signal, code, pad,skip_start_peaks=1)\n",
    "            plt.axvspan(MapTool.getPeaksLoc(Signal, pad, start_peak, getHigh = False), MapTool.getPeaksLoc(Signal, pad, end_peak), color='orange', alpha=0.5)\n",
    "            plt.xlabel(\"Sample Index\")\n",
    "            plt.ylabel(\"Amplitude\")\n",
    "            plt.grid(axis='y')\n",
    "\n",
    "            plt.legend(loc='upper center', bbox_to_anchor=(0.5, -0.12),\n",
    "                      fancybox=True, shadow=True, ncol=6)\n",
    "            plt.xlim([0,len(Signal)])\n",
    "            plt.ylim(y_low,y_high)\n",
    "            plt.show()\n",
    "            plt.close()\n",
    "            '''\n",
    "\n",
    "            ## Zoom in to area\n",
    "            '''\n",
    "            code = train_Code\n",
    "            Signal = train_Signals[0]\n",
    "\n",
    "            time_Signal = np.arange(Signal.shape[0])\n",
    "            plt.plot(time_Signal, Signal)\n",
    "            MapTool.mapCodeSignal(Signal, code, pad,skip_start_peaks=1)\n",
    "            plt.axvspan(MapTool.getPeaksLoc(Signal, pad, start_peak,getHigh = False), MapTool.getPeaksLoc(Signal, pad, end_peak), color='orange', alpha=0.5)\n",
    "            plt.xlabel(\"Sample Index\")\n",
    "            plt.ylabel(\"Amplitude\")\n",
    "            plt.grid(axis='y')\n",
    "\n",
    "            plt.legend(loc='upper center', bbox_to_anchor=(0.5, -0.12),\n",
    "                      fancybox=True, shadow=True, ncol=6)\n",
    "            plt.xlim([MapTool.getPeaksLoc(Signal, pad, start_peak,getHigh = False)-5,MapTool.getPeaksLoc(Signal, pad, end_peak)+5])\n",
    "            plt.ylim(y_low,y_high)\n",
    "            plt.show()\n",
    "            plt.close()\n",
    "            '''\n",
    "\n",
    "            ## Check if taking correct from Cycle obtained\n",
    "            Cycles = pC.getSeqSignals(train_Signals, start_peak, end_peak, startHigh=False, pad=pad)\n",
    "\n",
    "            lengths = []\n",
    "            for cycle in Cycles:\n",
    "                lengths.append(len(cycle))\n",
    "\n",
    "            lengths = np.array(lengths)\n",
    "            print(np.unique(lengths))\n",
    "\n",
    "            '''\n",
    "            #code = [target]\n",
    "            Signal = Cycles[0]\n",
    "\n",
    "            time_Signal = np.arange(Signal.shape[0])\n",
    "            plt.plot(time_Signal, Signal)\n",
    "            #MapTool.mapCodeSignal(Signal, code, pad)\n",
    "            #plt.axvspan(MapTool.getPeaksLoc(Signal, pad, start_peak,getHigh = False), MapTool.getPeaksLoc(Signal, pad, end_peak), color='orange', alpha=0.5)\n",
    "            plt.xlabel(\"Sample Index\")\n",
    "            plt.ylabel(\"Amplitude\")\n",
    "            plt.grid(axis='y')\n",
    "\n",
    "            #plt.legend(loc='upper center', bbox_to_anchor=(0.5, -0.12),\n",
    "            #          fancybox=True, shadow=True, ncol=6)\n",
    "            plt.xlim([0,len(Signal)])\n",
    "            plt.ylim(y_low,y_high)\n",
    "            plt.show()\n",
    "            plt.close()\n",
    "            '''"
   ]
  },
  {
   "cell_type": "code",
   "execution_count": 21,
   "id": "d0bdc93b",
   "metadata": {},
   "outputs": [
    {
     "name": "stdout",
     "output_type": "stream",
     "text": [
      "[38 39 40 41]\n",
      "[38 39 40 41]\n",
      "[38 39 40 41]\n",
      "[38 39 40 41]\n",
      "[38 39 40 41]\n",
      "[38 39 40 41]\n",
      "[38 39 40 41]\n",
      "[38 39 40 41]\n",
      "[38 39 40 41]\n",
      "[38 39 40 41]\n",
      "[38 39 40 41]\n",
      "[38 40 41]\n",
      "[38 39 40 41]\n",
      "[38 39 40 41]\n",
      "[38 39 40 41]\n",
      "[38 39 40 41]\n",
      "[38 39 40 41]\n",
      "[38 39 40 41]\n",
      "[38 39 40 41]\n",
      "[38 39 40 41]\n",
      "[38 39 40 41]\n",
      "[38 39 40 41]\n",
      "[38 39 40 41]\n",
      "[38 40 41]\n",
      "[38 39 40 41]\n",
      "[38 39 40 41]\n",
      "[38 39 40 41]\n",
      "[38 39 40 41]\n",
      "[38 39 40 41]\n",
      "[37 38 39 40 41]\n",
      "[38 39 40 41]\n",
      "[38 39 40 41]\n",
      "[37 38 39 40 41]\n",
      "[38 39 40 41]\n",
      "[38 39 40 41]\n",
      "[38 39 40 41]\n",
      "[38 39 40 41]\n",
      "[38 39 40 41]\n",
      "[37 38 39 40 41]\n"
     ]
    },
    {
     "ename": "KeyboardInterrupt",
     "evalue": "",
     "output_type": "error",
     "traceback": [
      "\u001b[1;31m---------------------------------------------------------------------------\u001b[0m",
      "\u001b[1;31mKeyboardInterrupt\u001b[0m                         Traceback (most recent call last)",
      "Cell \u001b[1;32mIn[21], line 1\u001b[0m\n\u001b[1;32m----> 1\u001b[0m \u001b[43mgetLengthCycles\u001b[49m\u001b[43m(\u001b[49m\u001b[43mtrain_Set_Extracted\u001b[49m\u001b[43m,\u001b[49m\u001b[43m \u001b[49m\u001b[43mtrain_Set_Signals\u001b[49m\u001b[43m,\u001b[49m\u001b[43m \u001b[49m\u001b[43mtrain_Set_Codes\u001b[49m\u001b[43m,\u001b[49m\u001b[43msequence_size\u001b[49m\u001b[38;5;241;43m=\u001b[39;49m\u001b[38;5;241;43m0\u001b[39;49m\u001b[43m,\u001b[49m\u001b[43m \u001b[49m\u001b[43mpad\u001b[49m\u001b[43m \u001b[49m\u001b[38;5;241;43m=\u001b[39;49m\u001b[43m \u001b[49m\u001b[43mpad\u001b[49m\u001b[43m,\u001b[49m\u001b[43m \u001b[49m\u001b[43mcheck\u001b[49m\u001b[38;5;241;43m=\u001b[39;49m\u001b[38;5;241;43m1\u001b[39;49m\u001b[43m)\u001b[49m\n",
      "Cell \u001b[1;32mIn[17], line 90\u001b[0m, in \u001b[0;36mgetLengthCycles\u001b[1;34m(train_Set_Extracted, train_Set_Signals, train_Set_Codes, sequence_size, include_c_Values, include_States, pad, check)\u001b[0m\n\u001b[0;32m     69\u001b[0m \u001b[38;5;124;03m'''\u001b[39;00m\n\u001b[0;32m     70\u001b[0m \u001b[38;5;124;03mcode = train_Code\u001b[39;00m\n\u001b[0;32m     71\u001b[0m \u001b[38;5;124;03mSignal = train_Signals[0]\u001b[39;00m\n\u001b[1;32m   (...)\u001b[0m\n\u001b[0;32m     86\u001b[0m \u001b[38;5;124;03mplt.close()\u001b[39;00m\n\u001b[0;32m     87\u001b[0m \u001b[38;5;124;03m'''\u001b[39;00m\n\u001b[0;32m     89\u001b[0m \u001b[38;5;66;03m## Check if taking correct from Cycle obtained\u001b[39;00m\n\u001b[1;32m---> 90\u001b[0m Cycles \u001b[38;5;241m=\u001b[39m \u001b[43mpC\u001b[49m\u001b[38;5;241;43m.\u001b[39;49m\u001b[43mgetSeqSignals\u001b[49m\u001b[43m(\u001b[49m\u001b[43mtrain_Signals\u001b[49m\u001b[43m,\u001b[49m\u001b[43m \u001b[49m\u001b[43mstart_peak\u001b[49m\u001b[43m,\u001b[49m\u001b[43m \u001b[49m\u001b[43mend_peak\u001b[49m\u001b[43m,\u001b[49m\u001b[43m \u001b[49m\u001b[43mstartHigh\u001b[49m\u001b[38;5;241;43m=\u001b[39;49m\u001b[38;5;28;43;01mFalse\u001b[39;49;00m\u001b[43m,\u001b[49m\u001b[43m \u001b[49m\u001b[43mpad\u001b[49m\u001b[38;5;241;43m=\u001b[39;49m\u001b[43mpad\u001b[49m\u001b[43m)\u001b[49m\n\u001b[0;32m     92\u001b[0m lengths \u001b[38;5;241m=\u001b[39m []\n\u001b[0;32m     93\u001b[0m \u001b[38;5;28;01mfor\u001b[39;00m cycle \u001b[38;5;129;01min\u001b[39;00m Cycles:\n",
      "File \u001b[1;32mE:\\College\\Research\\6_2_Program_Updates\\2_Creating_Training_Datasets\\../Imports\\Modules\\Tools\\peakCorrelation.py:662\u001b[0m, in \u001b[0;36mgetSeqSignals\u001b[1;34m(Signals, peaksStart, peaksEnd, pad, startHigh)\u001b[0m\n\u001b[0;32m    660\u001b[0m         Seq \u001b[38;5;241m=\u001b[39m signal[MapTool\u001b[38;5;241m.\u001b[39mgetPeaksLoc(signal, pad, peaksStart):MapTool\u001b[38;5;241m.\u001b[39mgetPeaksLoc(signal, pad, peaksEnd)]\n\u001b[0;32m    661\u001b[0m     \u001b[38;5;28;01melse\u001b[39;00m:\n\u001b[1;32m--> 662\u001b[0m         Seq \u001b[38;5;241m=\u001b[39m signal[MapTool\u001b[38;5;241m.\u001b[39mgetPeaksLoc(signal, pad, peaksStart, getHigh \u001b[38;5;241m=\u001b[39m \u001b[38;5;28;01mFalse\u001b[39;00m):\u001b[43mMapTool\u001b[49m\u001b[38;5;241;43m.\u001b[39;49m\u001b[43mgetPeaksLoc\u001b[49m\u001b[43m(\u001b[49m\u001b[43msignal\u001b[49m\u001b[43m,\u001b[49m\u001b[43m \u001b[49m\u001b[43mpad\u001b[49m\u001b[43m,\u001b[49m\u001b[43m \u001b[49m\u001b[43mpeaksEnd\u001b[49m\u001b[43m)\u001b[49m]\n\u001b[0;32m    663\u001b[0m     seqList\u001b[38;5;241m.\u001b[39mappend(Seq)\n\u001b[0;32m    665\u001b[0m seqList \u001b[38;5;241m=\u001b[39m np\u001b[38;5;241m.\u001b[39marray(seqList, dtype\u001b[38;5;241m=\u001b[39m\u001b[38;5;124m\"\u001b[39m\u001b[38;5;124mobject\u001b[39m\u001b[38;5;124m\"\u001b[39m)\n",
      "File \u001b[1;32mE:\\College\\Research\\6_2_Program_Updates\\2_Creating_Training_Datasets\\../Imports\\Modules\\Tools\\MapTool.py:522\u001b[0m, in \u001b[0;36mgetPeaksLoc\u001b[1;34m(signal, padding, peakNum, getHigh)\u001b[0m\n\u001b[0;32m    518\u001b[0m lastLLoc \u001b[38;5;241m=\u001b[39m \u001b[38;5;241m0\u001b[39m \n\u001b[0;32m    520\u001b[0m \u001b[38;5;66;03m# set if going up or down.\u001b[39;00m\n\u001b[0;32m    521\u001b[0m \u001b[38;5;66;03m## Determine the mid point.\u001b[39;00m\n\u001b[1;32m--> 522\u001b[0m cutpoint \u001b[38;5;241m=\u001b[39m signal\u001b[38;5;241m.\u001b[39mmin() \u001b[38;5;241m+\u001b[39m (\u001b[43msignal\u001b[49m\u001b[38;5;241;43m.\u001b[39;49m\u001b[43mmax\u001b[49m\u001b[43m(\u001b[49m\u001b[43m)\u001b[49m \u001b[38;5;241m-\u001b[39m signal\u001b[38;5;241m.\u001b[39mmin() \u001b[38;5;241m/\u001b[39m \u001b[38;5;241m2\u001b[39m)\n\u001b[0;32m    524\u001b[0m lastLLoc \u001b[38;5;241m=\u001b[39m (padding\u001b[38;5;241m*\u001b[39m\u001b[38;5;241m2\u001b[39m) \u001b[38;5;241m*\u001b[39m\u001b[38;5;241m-\u001b[39m\u001b[38;5;241m1\u001b[39m\n\u001b[0;32m    525\u001b[0m \u001b[38;5;28;01mif\u001b[39;00m loc \u001b[38;5;241m==\u001b[39m \u001b[38;5;241m0\u001b[39m:\n",
      "\u001b[1;31mKeyboardInterrupt\u001b[0m: "
     ]
    }
   ],
   "source": [
    "getLengthCycles(train_Set_Extracted, train_Set_Signals, train_Set_Codes,sequence_size=0, pad = pad, check=1)"
   ]
  },
  {
   "cell_type": "markdown",
   "id": "af0440af",
   "metadata": {},
   "source": [
    "# most cycles are 38 or more. Thus, a check if the cycle is 38 or more is done and take that as an instance to save. Additionally, additional information is removed till it has 38 index size."
   ]
  },
  {
   "cell_type": "code",
   "execution_count": 24,
   "id": "12c1fdf8",
   "metadata": {},
   "outputs": [],
   "source": [
    "def cutCycleToLength(cycle, set_length):\n",
    "    if len(cycle) < set_length:\n",
    "        print(\"length of cycle: \", len(cycle))\n",
    "        Signal = cycle\n",
    "\n",
    "        time_Signal = np.arange(Signal.shape[0])\n",
    "        plt.plot(time_Signal, Signal)\n",
    "        plt.xlabel(\"Sample Index\")\n",
    "        plt.ylabel(\"Amplitude\")\n",
    "        plt.grid(axis='y')\n",
    "\n",
    "        plt.xlim([0,len(Signal)])\n",
    "        plt.ylim(y_low,y_high)\n",
    "        plt.show()\n",
    "        plt.close()\n",
    "        raise ValueError(\"set_length is larger than the cycle length!\")\n",
    "\n",
    "    # Calculate the amount to remove and split evenly between start and end\n",
    "    amount_to_remove = len(cycle) - set_length\n",
    "    start_remove = amount_to_remove // 2\n",
    "    end_remove = amount_to_remove - start_remove\n",
    "    \n",
    "    stop = 0\n",
    "    if len(cycle) == set_length:\n",
    "        stop = 1\n",
    "    while stop == 0:\n",
    "        if cycle[len(cycle)-end_remove] < 0 and cycle[start_remove +1] < 0:\n",
    "            end_remove = end_remove + 1\n",
    "            start_remove = start_remove + 1\n",
    "        elif cycle[len(cycle)-end_remove] >= 0:\n",
    "            stop = 1\n",
    "        else:\n",
    "            print(\"End cycle point: \", cycle[len(cycle)-end_remove])\n",
    "            print(\"Would be start cycle point: \", cycle[start_remove +1])\n",
    "            raise ValueError(\"Cannot remove more information!\")\n",
    "\n",
    "    # Slice the cycle directly\n",
    "    return cycle[start_remove:len(cycle) - end_remove]"
   ]
  },
  {
   "cell_type": "code",
   "execution_count": 25,
   "id": "16e95094",
   "metadata": {},
   "outputs": [],
   "source": [
    "def cutCyclesToLength(dataset, set_length):\n",
    "    new_dataset = []\n",
    "    for cycle in dataset:\n",
    "        if len(cycle) >= set_length:\n",
    "            new_dataset.append(cutCycleToLength(cycle, set_length))\n",
    "    return new_dataset"
   ]
  },
  {
   "cell_type": "markdown",
   "id": "c8cadae3",
   "metadata": {},
   "source": [
    "# Create a method to extract the y (signal cycle for each instance)"
   ]
  },
  {
   "cell_type": "code",
   "execution_count": 26,
   "id": "0d4d1614",
   "metadata": {},
   "outputs": [],
   "source": [
    "'''\n",
    "Given lists of ASM_Inst, c_Values,  states of each Training Set in a list and a list of numpy arrays of sequence signals,\n",
    "\n",
    "Input:\n",
    "    train_Set_Extracted: list of ASM_Inst, list of c_Values, list of states of each Train_Program in that order.\n",
    "    train_Set_Signals: list of numpy arrays of sequence signals. (must be in the same order as Train_Set_Extracted)\n",
    "    sequence_size: sequence size of the number of instructions (prior instructions only) to consider.\n",
    "\n",
    "Output:\n",
    "    Sequence_Code: list of sequence code for each program executed in order of given Training_Set_Extracted.\n",
    "    Register_Values: list of register values for each instruction in the each sequence for each program executed in order of give Training_Set_Extracted.\n",
    "    Target_States: list of the state prior to executing the target instruction.\n",
    "    Signal_Priors: list of signals corresponding to the prior instructions. \n",
    "        (Note: will be prior + 1 = same as sequence_size as Transformers need the prior signal to generate a new signal of same shape.\n",
    "            This new signal will include some of the prior signal with added new generated time index values/amplitudes)\n",
    "'''\n",
    "def extractInformationFromTrainingSets(train_Set_Extracted, train_Set_Signals, train_Set_Codes, sequence_size, \n",
    "                                       include_c_Values=True, include_States=True, pad = 7, set_length = 35, amount = 3000):\n",
    "    x_repeats = []\n",
    "    y_repeats = []\n",
    "    start_peak = -2\n",
    "    end_peak = 1\n",
    "    \n",
    "    # First obtain the Sequence_Code, Register_Values and Target_States\n",
    "    ## cycle through each training set\n",
    "    for t in range(train_Set_Extracted.shape[0]):\n",
    "        train_Set = train_Set_Extracted[t]\n",
    "        train_Signals = train_Set_Signals[t]\n",
    "        train_Code = train_Set_Codes[t]\n",
    "        \n",
    "        # Adjust how much to skip at the start for each cycle that is a prior instruction for first target instruction.\n",
    "        for i in range(sequence_size):\n",
    "            prior_inst = train_Code[i]\n",
    "            amount_Cycles = Inst_Info.getCycles(prior_inst)\n",
    "            for n in range(amount_Cycles):\n",
    "                start_peak = start_peak + 2\n",
    "                end_peak = end_peak +2\n",
    "        \n",
    "        ## Obtain the assembly instructions (ASM_Inst), current values (c_Values), and states.\n",
    "        ASM_Inst, c_Values, states = train_Set\n",
    "        \n",
    "        ## Cycle though each instance\n",
    "        for i in range(len(ASM_Inst)-sequence_size):\n",
    "            info=[]\n",
    "            target = \"\"\n",
    "            ## Cycle through sequence_size\n",
    "            for n in range(sequence_size+1):\n",
    "                ## obtain the instruction in the sequence\n",
    "                info.append(ASM_Inst[i+n])\n",
    "                target = ASM_Inst[i+n]\n",
    "\n",
    "                ## obtain current values before executing each instruction in the sequence\n",
    "                if include_c_Values:\n",
    "                    info.append(c_Values[i-n][0])\n",
    "                    info.append(c_Values[i-n][1])\n",
    "                    \n",
    "            ## Add the state before executing the target instruction\n",
    "            if include_States:\n",
    "                info = info + states[i+sequence_size]\n",
    "                \n",
    "            ## Since the model generates cycles (2 waves) at a time, we need to check how many cycles the target instruction\n",
    "            ## has and also add the info for each cycle along with an indicator on which cycle to generate.\n",
    "            #print(target)\n",
    "            #print(Inst_Info.getCycles(target))\n",
    "            amount_Cycles = Inst_Info.getCycles(target)\n",
    "            for i in range(amount_Cycles):\n",
    "                info_cycle = info.copy()\n",
    "                info_cycle.append(i+1)\n",
    "                x_repeats.append(info_cycle)\n",
    "                \n",
    "        print(len(x_repeats))\n",
    "            \n",
    "    return x_repeats"
   ]
  },
  {
   "cell_type": "code",
   "execution_count": 27,
   "id": "8dd23454",
   "metadata": {},
   "outputs": [],
   "source": [
    "train_Set_Signals = []\n",
    "train_Set_Signals.append(Train_Program_1)\n",
    "train_Set_Signals.append(Train_Program_2)\n",
    "train_Set_Signals.append(Train_Program_3)\n",
    "train_Set_Signals.append(Train_Program_4)\n",
    "train_Set_Signals = np.array(train_Set_Signals, dtype=object)"
   ]
  },
  {
   "cell_type": "code",
   "execution_count": 28,
   "id": "43eb4253",
   "metadata": {},
   "outputs": [],
   "source": [
    "train_Set_Codes = []\n",
    "train_Set_Codes.append(Train_Program_1_Code)\n",
    "train_Set_Codes.append(Train_Program_2_Code)\n",
    "train_Set_Codes.append(Train_Program_3_Code)\n",
    "train_Set_Codes.append(Train_Program_4_Code)\n",
    "train_Set_Codes = np.array(train_Set_Codes, dtype=object)"
   ]
  },
  {
   "cell_type": "code",
   "execution_count": 29,
   "id": "6e0fd3c3",
   "metadata": {},
   "outputs": [
    {
     "name": "stdout",
     "output_type": "stream",
     "text": [
      "183\n",
      "379\n",
      "553\n",
      "688\n"
     ]
    }
   ],
   "source": [
    "x_0 = extractInformationFromTrainingSets(train_Set_Extracted, train_Set_Signals, train_Set_Codes,sequence_size=0, pad = pad)"
   ]
  },
  {
   "cell_type": "code",
   "execution_count": 30,
   "id": "a445cb66",
   "metadata": {},
   "outputs": [
    {
     "name": "stdout",
     "output_type": "stream",
     "text": [
      "182\n",
      "377\n",
      "550\n",
      "684\n"
     ]
    }
   ],
   "source": [
    "x_1 = extractInformationFromTrainingSets(train_Set_Extracted, train_Set_Signals, train_Set_Codes,sequence_size=1, pad = pad)"
   ]
  },
  {
   "cell_type": "code",
   "execution_count": 31,
   "id": "730daee0",
   "metadata": {},
   "outputs": [
    {
     "name": "stdout",
     "output_type": "stream",
     "text": [
      "180\n",
      "374\n",
      "545\n",
      "678\n"
     ]
    }
   ],
   "source": [
    "x_2 = extractInformationFromTrainingSets(train_Set_Extracted, train_Set_Signals, train_Set_Codes,sequence_size=2, pad = pad)"
   ]
  },
  {
   "cell_type": "markdown",
   "id": "f0ac2a3d",
   "metadata": {},
   "source": [
    "# Problem is that y takes awhile to calculate.\n",
    "- However this y will stay the same each time, just remove of the first few instances.\n",
    "- Thus, we can calculate the y values for 0, then remove the first few for 1 and 2 prior instructions to calculate and save them.\n",
    "- Then we can just use load the ones with what ever x values that are for the same sequence sizes."
   ]
  },
  {
   "cell_type": "code",
   "execution_count": 32,
   "id": "7a61a441",
   "metadata": {},
   "outputs": [],
   "source": [
    "import time"
   ]
  },
  {
   "cell_type": "code",
   "execution_count": 33,
   "id": "005203c2",
   "metadata": {},
   "outputs": [],
   "source": [
    "def getCorrect(Cycles, amount=2500, pad=8):\n",
    "    new_Cycles = []\n",
    "    Peaks_Cycles = MapTool.getPeaksDataset(Cycles, pad, getHigh = True)\n",
    "    count = 0\n",
    "    for c in range(len(Cycles)):\n",
    "        peaks = Peaks_Cycles[c]\n",
    "        if len(peaks) == 3:\n",
    "            if peaks[0] > peaks[1]:\n",
    "                new_Cycles.append(Cycles[c])\n",
    "            else:\n",
    "                count = count+1\n",
    "    if count > 0:\n",
    "        print(\"Number of off set cycles: \", count)\n",
    "    return new_Cycles[:amount]"
   ]
  },
  {
   "cell_type": "code",
   "execution_count": 54,
   "id": "aad25a28",
   "metadata": {},
   "outputs": [],
   "source": [
    "'''\n",
    "Given lists of ASM_Inst, c_Values,  states of each Training Set in a list and a list of numpy arrays of sequence signals,\n",
    "\n",
    "Input:\n",
    "    train_Set_Extracted: list of ASM_Inst, list of c_Values, list of states of each Train_Program in that order.\n",
    "    train_Set_Signals: list of numpy arrays of sequence signals. (must be in the same order as Train_Set_Extracted)\n",
    "    sequence_size: sequence size of the number of instructions (prior instructions only) to consider.\n",
    "\n",
    "Output:\n",
    "    Sequence_Code: list of sequence code for each program executed in order of given Training_Set_Extracted.\n",
    "    Register_Values: list of register values for each instruction in the each sequence for each program executed in order of give Training_Set_Extracted.\n",
    "    Target_States: list of the state prior to executing the target instruction.\n",
    "    Signal_Priors: list of signals corresponding to the prior instructions. \n",
    "        (Note: will be prior + 1 = same as sequence_size as Transformers need the prior signal to generate a new signal of same shape.\n",
    "            This new signal will include some of the prior signal with added new generated time index values/amplitudes)\n",
    "'''\n",
    "def extractInformationFromTrainingSets_y(train_Set_Extracted, train_Set_Signals, train_Set_Codes, sequence_size, \n",
    "                                       include_c_Values=True, include_States=True, pad = 7, set_length = 38, amount = 2500, t=0):\n",
    "    y_repeats = []\n",
    "    count = 0\n",
    "    start_time = time.time()\n",
    "    \n",
    "    # First obtain the Sequence_Code, Register_Values and Target_States\n",
    "    ## cycle through each training set\n",
    "    train_Set = train_Set_Extracted[t]\n",
    "    train_Signals = train_Set_Signals[t]\n",
    "    train_Code = train_Set_Codes[t]\n",
    "\n",
    "    start_peak = -2\n",
    "    end_peak = 1\n",
    "\n",
    "    # Adjust how much to skip at the start for each cycle that is a prior instruction for first target instruction.\n",
    "    for i in range(sequence_size):\n",
    "        prior_inst = train_Code[i]\n",
    "        amount_Cycles = Inst_Info.getCycles(prior_inst)\n",
    "        for n in range(amount_Cycles):\n",
    "            start_peak = start_peak + 2\n",
    "            end_peak = end_peak +2\n",
    "\n",
    "    ## Obtain the assembly instructions (ASM_Inst), current values (c_Values), and states.\n",
    "    ASM_Inst, c_Values, states = train_Set\n",
    "\n",
    "    ## Cycle though each instance\n",
    "    for i in range(len(ASM_Inst)-sequence_size):\n",
    "        info=[]\n",
    "        target = \"\"\n",
    "        ## Cycle through sequence_size\n",
    "        for n in range(sequence_size+1):\n",
    "            ## obtain the instruction in the sequence\n",
    "            info.append(ASM_Inst[i+n])\n",
    "            target = ASM_Inst[i+n]\n",
    "\n",
    "        ## Since the model generates cycles (2 waves) at a time, we need to check how many cycles the target instruction\n",
    "        ## has and also add the info for each cycle along with an indicator on which cycle to generate.\n",
    "        #print(target)\n",
    "        #print(Inst_Info.getCycles(target))\n",
    "        amount_Cycles = Inst_Info.getCycles(target)\n",
    "        for i in range(amount_Cycles):\n",
    "\n",
    "            # Add to the y instance of the target instructions cyles  signal\n",
    "            ## Identify the start and end of the signal peaks to extract for y\n",
    "            start_peak = start_peak + 2\n",
    "            end_peak = end_peak + 2\n",
    "\n",
    "            # Obtain the cycle for the target instruction.\n",
    "            ## Check if taking correct from full signal\n",
    "            '''\n",
    "            code = train_Code\n",
    "            Signal = train_Signals[0]\n",
    "\n",
    "            time_Signal = np.arange(Signal.shape[0])\n",
    "            plt.plot(time_Signal, Signal)\n",
    "            MapTool.mapCodeSignal(Signal, code, pad,skip_start_peaks=1)\n",
    "            plt.axvspan(MapTool.getPeaksLoc(Signal, pad, start_peak, getHigh = False), MapTool.getPeaksLoc(Signal, pad, end_peak), color='orange', alpha=0.5)\n",
    "            plt.xlabel(\"Sample Index\")\n",
    "            plt.ylabel(\"Amplitude\")\n",
    "            plt.grid(axis='y')\n",
    "\n",
    "            plt.legend(loc='upper center', bbox_to_anchor=(0.5, -0.12),\n",
    "                      fancybox=True, shadow=True, ncol=6)\n",
    "            plt.xlim([0,len(Signal)])\n",
    "            plt.ylim(y_low,y_high)\n",
    "            plt.show()\n",
    "            plt.close()\n",
    "            '''\n",
    "\n",
    "\n",
    "            ## Zoom in to area\n",
    "            '''\n",
    "            code = train_Code\n",
    "            Signal = train_Signals[0]\n",
    "\n",
    "            time_Signal = np.arange(Signal.shape[0])\n",
    "            plt.plot(time_Signal, Signal)\n",
    "            MapTool.mapCodeSignal(Signal, code, pad,skip_start_peaks=1)\n",
    "            plt.axvspan(MapTool.getPeaksLoc(Signal, pad, start_peak,getHigh = False), MapTool.getPeaksLoc(Signal, pad, end_peak), color='orange', alpha=0.5)\n",
    "            plt.xlabel(\"Sample Index\")\n",
    "            plt.ylabel(\"Amplitude\")\n",
    "            plt.grid(axis='y')\n",
    "\n",
    "            plt.legend(loc='upper center', bbox_to_anchor=(0.5, -0.12),\n",
    "                      fancybox=True, shadow=True, ncol=6)\n",
    "            plt.xlim([MapTool.getPeaksLoc(Signal, pad, start_peak,getHigh = False)-5,MapTool.getPeaksLoc(Signal, pad, end_peak)+5])\n",
    "            plt.ylim(y_low,y_high)\n",
    "            plt.show()\n",
    "            plt.close()\n",
    "            '''\n",
    "\n",
    "\n",
    "            # obtain the signal for the cycle\n",
    "            Cycles = pC.getSeqSignals(train_Signals, start_peak, end_peak, startHigh=False, pad=pad)\n",
    "\n",
    "            ## Check if taking correct from Cycle obtained\n",
    "            '''\n",
    "            #code = [target]\n",
    "            Signal = Cycles[0]\n",
    "\n",
    "            time_Signal = np.arange(Signal.shape[0])\n",
    "            plt.plot(time_Signal, Signal)\n",
    "            #MapTool.mapCodeSignal(Signal, code, pad)\n",
    "            #plt.axvspan(MapTool.getPeaksLoc(Signal, pad, start_peak,getHigh = False), MapTool.getPeaksLoc(Signal, pad, end_peak), color='orange', alpha=0.5)\n",
    "            plt.xlabel(\"Sample Index\")\n",
    "            plt.ylabel(\"Amplitude\")\n",
    "            plt.grid(axis='y')\n",
    "\n",
    "            #plt.legend(loc='upper center', bbox_to_anchor=(0.5, -0.12),\n",
    "            #          fancybox=True, shadow=True, ncol=6)\n",
    "            plt.xlim([0,len(Signal)])\n",
    "            plt.ylim(y_low,y_high)\n",
    "            plt.show()\n",
    "            plt.close()\n",
    "            '''\n",
    "\n",
    "\n",
    "            ## Remove information to have same length cycles\n",
    "            Cycles = cutCyclesToLength(Cycles, set_length)\n",
    "            Cycles = getCorrect(Cycles, amount, pad)\n",
    "            if len(Cycles) < amount:\n",
    "                print(\"Cycles saved is lower than expected: amount \", len(Cycles))\n",
    "                print(\"Count: \", count)\n",
    "                \n",
    "                Cycles = Cycles + Cycles\n",
    "                Cycles = Cycles[:amount]\n",
    "                if len(Cycles) < amount:\n",
    "                    print(\"Still the Cycles saved is lower than expected: amount \", len(Cycles))\n",
    "                    print(\"Count: \", count)\n",
    "                    \n",
    "                    Cycles = Cycles + Cycles\n",
    "                    Cycles = Cycles[:amount]\n",
    "                    if len(Cycles) < amount:\n",
    "                        print(\"Warning To few of good samples: amount \", len(Cycles))\n",
    "                        print(\"Count: \", count)\n",
    "\n",
    "            '''\n",
    "            #code = [target]\n",
    "            Signal = Cycles[0]\n",
    "\n",
    "            time_Signal = np.arange(Signal.shape[0])\n",
    "            plt.plot(time_Signal, Signal)\n",
    "            #MapTool.mapCodeSignal(Signal, code, pad)\n",
    "            #plt.axvspan(MapTool.getPeaksLoc(Signal, pad, start_peak,getHigh = False), MapTool.getPeaksLoc(Signal, pad, end_peak), color='orange', alpha=0.5)\n",
    "            plt.xlabel(\"Sample Index\")\n",
    "            plt.ylabel(\"Amplitude\")\n",
    "            plt.grid(axis='y')\n",
    "\n",
    "            #plt.legend(loc='upper center', bbox_to_anchor=(0.5, -0.12),\n",
    "            #          fancybox=True, shadow=True, ncol=6)\n",
    "            plt.xlim([0,len(Signal)])\n",
    "            plt.ylim(y_low,y_high)\n",
    "            plt.show()\n",
    "            plt.close()\n",
    "            '''\n",
    "\n",
    "            count = count +1\n",
    "            if count % 50 == 0 or count == 1:\n",
    "                print(\"Count: \", count)\n",
    "                temp = np.array(Cycles)\n",
    "                print(\"Check shape: \", temp.shape)\n",
    "                end_time = time.time()\n",
    "                elapsed_time = end_time - start_time\n",
    "                print(elapsed_time)\n",
    "\n",
    "            y_repeats.append(Cycles)\n",
    "    print(len(y_repeats))\n",
    "            \n",
    "    return y_repeats"
   ]
  },
  {
   "cell_type": "code",
   "execution_count": 44,
   "id": "6bebc752",
   "metadata": {},
   "outputs": [
    {
     "name": "stdout",
     "output_type": "stream",
     "text": [
      "[[2, 3], [4, 5], [6, 7], [2, 3], [4, 5], [6, 7]]\n"
     ]
    }
   ],
   "source": [
    "list1 = [[2,3],[4,5],[6,7]]\n",
    "list2 = [[2,3],[4,5],[6,7]]\n",
    "\n",
    "temp = list1 + list2\n",
    "print(temp)"
   ]
  },
  {
   "cell_type": "code",
   "execution_count": 45,
   "id": "502a5515",
   "metadata": {
    "scrolled": true
   },
   "outputs": [
    {
     "name": "stdout",
     "output_type": "stream",
     "text": [
      "Count:  1\n",
      "Check shape:  (2500, 38)\n",
      "2.4140288829803467\n",
      "Number of off set cycles:  127\n",
      "Number of off set cycles:  113\n",
      "Number of off set cycles:  3\n",
      "Number of off set cycles:  33\n",
      "Count:  50\n",
      "Check shape:  (2500, 38)\n",
      "318.3247265815735\n",
      "Number of off set cycles:  384\n",
      "Number of off set cycles:  83\n",
      "Number of off set cycles:  33\n",
      "Number of off set cycles:  4\n",
      "Number of off set cycles:  180\n",
      "Number of off set cycles:  201\n",
      "Number of off set cycles:  1\n",
      "Number of off set cycles:  640\n",
      "Cycles saved is lower than expected: amount  2432\n",
      "Count:  86\n",
      "Number of off set cycles:  56\n",
      "Count:  100\n",
      "Check shape:  (2500, 38)\n",
      "1079.79785490036\n",
      "Number of off set cycles:  493\n",
      "Number of off set cycles:  76\n",
      "Number of off set cycles:  75\n",
      "Number of off set cycles:  556\n",
      "Number of off set cycles:  130\n",
      "Number of off set cycles:  1666\n",
      "Cycles saved is lower than expected: amount  1406\n",
      "Count:  145\n",
      "Count:  150\n",
      "Check shape:  (2500, 38)\n",
      "2277.0351972579956\n",
      "Number of off set cycles:  234\n",
      "Number of off set cycles:  227\n",
      "183\n"
     ]
    }
   ],
   "source": [
    "y_Train_Program_1 = extractInformationFromTrainingSets_y(train_Set_Extracted, train_Set_Signals, train_Set_Codes,sequence_size=0, pad = pad, t=0)"
   ]
  },
  {
   "cell_type": "code",
   "execution_count": 51,
   "id": "ce0b6388",
   "metadata": {},
   "outputs": [],
   "source": [
    "np.save(\"../Datasets/Cycle Signals/y_Train_Program_1_No_Offset.npy\", np.array(y_Train_Program_1))"
   ]
  },
  {
   "cell_type": "code",
   "execution_count": 55,
   "id": "2ac2859a",
   "metadata": {},
   "outputs": [
    {
     "name": "stdout",
     "output_type": "stream",
     "text": [
      "Count:  1\n",
      "Check shape:  (2500, 38)\n",
      "2.3069684505462646\n",
      "Number of off set cycles:  387\n",
      "Cycles saved is lower than expected: amount  2474\n",
      "Count:  18\n",
      "Number of off set cycles:  1854\n",
      "Cycles saved is lower than expected: amount  1007\n",
      "Count:  30\n",
      "Still the Cycles saved is lower than expected: amount  2014\n",
      "Count:  30\n",
      "Number of off set cycles:  131\n",
      "Count:  50\n",
      "Check shape:  (2500, 38)\n",
      "310.25015139579773\n",
      "Number of off set cycles:  900\n",
      "Cycles saved is lower than expected: amount  1961\n",
      "Count:  58\n",
      "Number of off set cycles:  826\n",
      "Cycles saved is lower than expected: amount  2035\n",
      "Count:  69\n",
      "Number of off set cycles:  1\n",
      "Number of off set cycles:  2\n",
      "Number of off set cycles:  11\n",
      "Number of off set cycles:  48\n",
      "Count:  100\n",
      "Check shape:  (2500, 38)\n",
      "1023.454431772232\n",
      "Number of off set cycles:  12\n",
      "Number of off set cycles:  18\n",
      "Number of off set cycles:  79\n",
      "Number of off set cycles:  208\n",
      "Number of off set cycles:  200\n",
      "Number of off set cycles:  147\n",
      "Number of off set cycles:  298\n",
      "Count:  150\n",
      "Check shape:  (2500, 38)\n",
      "2139.201894760132\n",
      "Number of off set cycles:  156\n",
      "Number of off set cycles:  65\n",
      "Number of off set cycles:  425\n",
      "Cycles saved is lower than expected: amount  2436\n",
      "Count:  163\n",
      "Number of off set cycles:  28\n",
      "Number of off set cycles:  109\n",
      "Number of off set cycles:  351\n",
      "Cycles saved is lower than expected: amount  2272\n",
      "Count:  195\n",
      "196\n"
     ]
    }
   ],
   "source": [
    "y_Train_Program_2 = extractInformationFromTrainingSets_y(train_Set_Extracted, train_Set_Signals, train_Set_Codes,sequence_size=0, pad = pad, t=1)"
   ]
  },
  {
   "cell_type": "code",
   "execution_count": 56,
   "id": "e23ed3ac",
   "metadata": {},
   "outputs": [],
   "source": [
    "np.save(\"../Datasets/Cycle Signals/y_Train_Program_2_No_Offset.npy\", np.array(y_Train_Program_2))"
   ]
  },
  {
   "cell_type": "code",
   "execution_count": 57,
   "id": "caab36cd",
   "metadata": {},
   "outputs": [
    {
     "name": "stdout",
     "output_type": "stream",
     "text": [
      "Count:  1\n",
      "Check shape:  (2500, 38)\n",
      "12.627126932144165\n",
      "Number of off set cycles:  335\n",
      "Count:  50\n",
      "Check shape:  (2500, 38)\n",
      "331.96250462532043\n",
      "Number of off set cycles:  403\n",
      "Number of off set cycles:  57\n",
      "Number of off set cycles:  6\n",
      "Number of off set cycles:  1\n",
      "Number of off set cycles:  219\n",
      "Number of off set cycles:  709\n",
      "Cycles saved is lower than expected: amount  2469\n",
      "Count:  80\n",
      "Number of off set cycles:  279\n",
      "Number of off set cycles:  1138\n",
      "Cycles saved is lower than expected: amount  2040\n",
      "Count:  87\n",
      "Count:  100\n",
      "Check shape:  (2500, 38)\n",
      "1101.2458312511444\n",
      "Number of off set cycles:  424\n",
      "Number of off set cycles:  57\n",
      "Number of off set cycles:  151\n",
      "Number of off set cycles:  436\n",
      "Count:  150\n",
      "Check shape:  (2500, 38)\n",
      "2308.991327524185\n",
      "Cycles saved is lower than expected: amount  2274\n",
      "Count:  173\n",
      "174\n"
     ]
    }
   ],
   "source": [
    "y_Train_Program_3 = extractInformationFromTrainingSets_y(train_Set_Extracted, train_Set_Signals, train_Set_Codes,sequence_size=0, pad = pad, t=2)"
   ]
  },
  {
   "cell_type": "code",
   "execution_count": 58,
   "id": "0c6a6bf3",
   "metadata": {},
   "outputs": [],
   "source": [
    "np.save(\"../Datasets/Cycle Signals/y_Train_Program_3_No_Offset.npy\", np.array(y_Train_Program_3))"
   ]
  },
  {
   "cell_type": "code",
   "execution_count": 59,
   "id": "70635933",
   "metadata": {},
   "outputs": [
    {
     "name": "stdout",
     "output_type": "stream",
     "text": [
      "Count:  1\n",
      "Check shape:  (2500, 38)\n",
      "3.966050863265991\n",
      "Number of off set cycles:  318\n",
      "Number of off set cycles:  138\n",
      "Count:  50\n",
      "Check shape:  (2500, 38)\n",
      "296.38065695762634\n",
      "Number of off set cycles:  236\n",
      "Number of off set cycles:  7\n",
      "Number of off set cycles:  39\n",
      "Number of off set cycles:  114\n",
      "Count:  100\n",
      "Check shape:  (2500, 38)\n",
      "1038.877997636795\n",
      "Number of off set cycles:  423\n",
      "Number of off set cycles:  161\n",
      "Number of off set cycles:  79\n",
      "Number of off set cycles:  215\n",
      "135\n"
     ]
    }
   ],
   "source": [
    "y_Train_Program_4 = extractInformationFromTrainingSets_y(train_Set_Extracted, train_Set_Signals, train_Set_Codes,sequence_size=0, pad = pad, t=3)"
   ]
  },
  {
   "cell_type": "code",
   "execution_count": 60,
   "id": "d0165914",
   "metadata": {},
   "outputs": [],
   "source": [
    "np.save(\"../Datasets/Cycle Signals/y_Train_Program_4_No_Offset.npy\", np.array(y_Train_Program_4))"
   ]
  }
 ],
 "metadata": {
  "kernelspec": {
   "display_name": "Python 3 (ipykernel)",
   "language": "python",
   "name": "python3"
  },
  "language_info": {
   "codemirror_mode": {
    "name": "ipython",
    "version": 3
   },
   "file_extension": ".py",
   "mimetype": "text/x-python",
   "name": "python",
   "nbconvert_exporter": "python",
   "pygments_lexer": "ipython3",
   "version": "3.10.12"
  }
 },
 "nbformat": 4,
 "nbformat_minor": 5
}
